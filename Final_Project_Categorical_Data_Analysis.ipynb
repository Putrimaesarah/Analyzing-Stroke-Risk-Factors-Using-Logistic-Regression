{
  "nbformat": 4,
  "nbformat_minor": 0,
  "metadata": {
    "colab": {
      "provenance": [],
      "include_colab_link": true
    },
    "kernelspec": {
      "name": "ir",
      "display_name": "R"
    },
    "language_info": {
      "name": "R"
    }
  },
  "cells": [
    {
      "cell_type": "markdown",
      "metadata": {
        "id": "view-in-github",
        "colab_type": "text"
      },
      "source": [
        "<a href=\"https://colab.research.google.com/github/Putrimaesarah/Analyzing-Stroke-Risk-Factors-Using-Logistic-Regression/blob/main/Final_Project_Categorical_Data_Analysis.ipynb\" target=\"_parent\"><img src=\"https://colab.research.google.com/assets/colab-badge.svg\" alt=\"Open In Colab\"/></a>"
      ]
    },
    {
      "cell_type": "markdown",
      "source": [
        "# IMPORT DATA"
      ],
      "metadata": {
        "id": "CIzle0KqTTk1"
      }
    },
    {
      "cell_type": "code",
      "source": [],
      "metadata": {
        "id": "WOIqRvIKx7vC"
      },
      "execution_count": null,
      "outputs": []
    },
    {
      "cell_type": "code",
      "execution_count": null,
      "metadata": {
        "id": "3SZqfT-OTLzM",
        "colab": {
          "base_uri": "https://localhost:8080/"
        },
        "outputId": "1acbb65f-3ae3-4758-f7b2-5abab38aa696"
      },
      "outputs": [
        {
          "output_type": "stream",
          "name": "stderr",
          "text": [
            "Installing package into ‘/usr/local/lib/R/site-library’\n",
            "(as ‘lib’ is unspecified)\n",
            "\n"
          ]
        }
      ],
      "source": [
        "install.packages(\"readxl\")\n",
        "library(readxl)\n",
        "\n",
        "\n"
      ]
    },
    {
      "cell_type": "code",
      "source": [
        "data <- read_excel(\"/content/Data Stroke.xlsx\")\n",
        "data"
      ],
      "metadata": {
        "id": "aK6nUrtCTaaS",
        "colab": {
          "base_uri": "https://localhost:8080/",
          "height": 1000
        },
        "outputId": "2c9cb99c-3153-422f-ceff-1b67e132a41d"
      },
      "execution_count": null,
      "outputs": [
        {
          "output_type": "display_data",
          "data": {
            "text/html": [
              "<table class=\"dataframe\">\n",
              "<caption>A tibble: 5110 × 11</caption>\n",
              "<thead>\n",
              "\t<tr><th scope=col>gender</th><th scope=col>age</th><th scope=col>hypertension</th><th scope=col>heart_disease</th><th scope=col>ever_married</th><th scope=col>work_type</th><th scope=col>Residence_type</th><th scope=col>avg_glucose_level</th><th scope=col>bmi</th><th scope=col>smoking_status</th><th scope=col>stroke</th></tr>\n",
              "\t<tr><th scope=col>&lt;chr&gt;</th><th scope=col>&lt;chr&gt;</th><th scope=col>&lt;dbl&gt;</th><th scope=col>&lt;dbl&gt;</th><th scope=col>&lt;chr&gt;</th><th scope=col>&lt;chr&gt;</th><th scope=col>&lt;chr&gt;</th><th scope=col>&lt;chr&gt;</th><th scope=col>&lt;chr&gt;</th><th scope=col>&lt;chr&gt;</th><th scope=col>&lt;dbl&gt;</th></tr>\n",
              "</thead>\n",
              "<tbody>\n",
              "\t<tr><td>Male  </td><td>67</td><td>0</td><td>1</td><td>Yes</td><td>Private      </td><td>Urban</td><td>228.69</td><td>36.6</td><td>formerly smoked</td><td>1</td></tr>\n",
              "\t<tr><td>Female</td><td>61</td><td>0</td><td>0</td><td>Yes</td><td>Self-employed</td><td>Rural</td><td>202.21</td><td>N/A </td><td>never smoked   </td><td>1</td></tr>\n",
              "\t<tr><td>Male  </td><td>80</td><td>0</td><td>1</td><td>Yes</td><td>Private      </td><td>Rural</td><td>105.92</td><td>32.5</td><td>never smoked   </td><td>1</td></tr>\n",
              "\t<tr><td>Female</td><td>49</td><td>0</td><td>0</td><td>Yes</td><td>Private      </td><td>Urban</td><td>171.23</td><td>34.4</td><td>smokes         </td><td>1</td></tr>\n",
              "\t<tr><td>Female</td><td>79</td><td>1</td><td>0</td><td>Yes</td><td>Self-employed</td><td>Rural</td><td>174.12</td><td>24  </td><td>never smoked   </td><td>1</td></tr>\n",
              "\t<tr><td>Male  </td><td>81</td><td>0</td><td>0</td><td>Yes</td><td>Private      </td><td>Urban</td><td>186.21</td><td>29  </td><td>formerly smoked</td><td>1</td></tr>\n",
              "\t<tr><td>Male  </td><td>74</td><td>1</td><td>1</td><td>Yes</td><td>Private      </td><td>Rural</td><td>70.09 </td><td>27.4</td><td>never smoked   </td><td>1</td></tr>\n",
              "\t<tr><td>Female</td><td>69</td><td>0</td><td>0</td><td>No </td><td>Private      </td><td>Urban</td><td>94.39 </td><td>22.8</td><td>never smoked   </td><td>1</td></tr>\n",
              "\t<tr><td>Female</td><td>59</td><td>0</td><td>0</td><td>Yes</td><td>Private      </td><td>Rural</td><td>76.15 </td><td>N/A </td><td>Unknown        </td><td>1</td></tr>\n",
              "\t<tr><td>Female</td><td>78</td><td>0</td><td>0</td><td>Yes</td><td>Private      </td><td>Urban</td><td>58.57 </td><td>24.2</td><td>Unknown        </td><td>1</td></tr>\n",
              "\t<tr><td>Female</td><td>81</td><td>1</td><td>0</td><td>Yes</td><td>Private      </td><td>Rural</td><td>80.43 </td><td>29.7</td><td>never smoked   </td><td>1</td></tr>\n",
              "\t<tr><td>Female</td><td>61</td><td>0</td><td>1</td><td>Yes</td><td>Govt_job     </td><td>Rural</td><td>120.46</td><td>36.8</td><td>smokes         </td><td>1</td></tr>\n",
              "\t<tr><td>Female</td><td>54</td><td>0</td><td>0</td><td>Yes</td><td>Private      </td><td>Urban</td><td>104.51</td><td>27.3</td><td>smokes         </td><td>1</td></tr>\n",
              "\t<tr><td>Male  </td><td>78</td><td>0</td><td>1</td><td>Yes</td><td>Private      </td><td>Urban</td><td>219.84</td><td>N/A </td><td>Unknown        </td><td>1</td></tr>\n",
              "\t<tr><td>Female</td><td>79</td><td>0</td><td>1</td><td>Yes</td><td>Private      </td><td>Urban</td><td>214.09</td><td>28.2</td><td>never smoked   </td><td>1</td></tr>\n",
              "\t<tr><td>Female</td><td>50</td><td>1</td><td>0</td><td>Yes</td><td>Self-employed</td><td>Rural</td><td>167.41</td><td>30.9</td><td>never smoked   </td><td>1</td></tr>\n",
              "\t<tr><td>Male  </td><td>64</td><td>0</td><td>1</td><td>Yes</td><td>Private      </td><td>Urban</td><td>191.61</td><td>37.5</td><td>smokes         </td><td>1</td></tr>\n",
              "\t<tr><td>Male  </td><td>75</td><td>1</td><td>0</td><td>Yes</td><td>Private      </td><td>Urban</td><td>221.29</td><td>25.8</td><td>smokes         </td><td>1</td></tr>\n",
              "\t<tr><td>Female</td><td>60</td><td>0</td><td>0</td><td>No </td><td>Private      </td><td>Urban</td><td>89.22 </td><td>37.8</td><td>never smoked   </td><td>1</td></tr>\n",
              "\t<tr><td>Male  </td><td>57</td><td>0</td><td>1</td><td>No </td><td>Govt_job     </td><td>Urban</td><td>217.08</td><td>N/A </td><td>Unknown        </td><td>1</td></tr>\n",
              "\t<tr><td>Female</td><td>71</td><td>0</td><td>0</td><td>Yes</td><td>Govt_job     </td><td>Rural</td><td>193.94</td><td>22.4</td><td>smokes         </td><td>1</td></tr>\n",
              "\t<tr><td>Female</td><td>52</td><td>1</td><td>0</td><td>Yes</td><td>Self-employed</td><td>Urban</td><td>233.29</td><td>48.9</td><td>never smoked   </td><td>1</td></tr>\n",
              "\t<tr><td>Female</td><td>79</td><td>0</td><td>0</td><td>Yes</td><td>Self-employed</td><td>Urban</td><td>228.7 </td><td>26.6</td><td>never smoked   </td><td>1</td></tr>\n",
              "\t<tr><td>Male  </td><td>82</td><td>0</td><td>1</td><td>Yes</td><td>Private      </td><td>Rural</td><td>208.3 </td><td>32.5</td><td>Unknown        </td><td>1</td></tr>\n",
              "\t<tr><td>Male  </td><td>71</td><td>0</td><td>0</td><td>Yes</td><td>Private      </td><td>Urban</td><td>102.87</td><td>27.2</td><td>formerly smoked</td><td>1</td></tr>\n",
              "\t<tr><td>Male  </td><td>80</td><td>0</td><td>0</td><td>Yes</td><td>Self-employed</td><td>Rural</td><td>104.12</td><td>23.5</td><td>never smoked   </td><td>1</td></tr>\n",
              "\t<tr><td>Female</td><td>65</td><td>0</td><td>0</td><td>Yes</td><td>Private      </td><td>Rural</td><td>100.98</td><td>28.2</td><td>formerly smoked</td><td>1</td></tr>\n",
              "\t<tr><td>Male  </td><td>58</td><td>0</td><td>0</td><td>Yes</td><td>Private      </td><td>Rural</td><td>189.84</td><td>N/A </td><td>Unknown        </td><td>1</td></tr>\n",
              "\t<tr><td>Male  </td><td>69</td><td>0</td><td>1</td><td>Yes</td><td>Self-employed</td><td>Urban</td><td>195.23</td><td>28.3</td><td>smokes         </td><td>1</td></tr>\n",
              "\t<tr><td>Male  </td><td>59</td><td>0</td><td>0</td><td>Yes</td><td>Private      </td><td>Rural</td><td>211.78</td><td>N/A </td><td>formerly smoked</td><td>1</td></tr>\n",
              "\t<tr><td>⋮</td><td>⋮</td><td>⋮</td><td>⋮</td><td>⋮</td><td>⋮</td><td>⋮</td><td>⋮</td><td>⋮</td><td>⋮</td><td>⋮</td></tr>\n",
              "\t<tr><td>Female</td><td>29  </td><td>0</td><td>0</td><td>Yes</td><td>Self-employed</td><td>Urban</td><td>90.52 </td><td>28  </td><td>never smoked   </td><td>0</td></tr>\n",
              "\t<tr><td>Male  </td><td>55  </td><td>0</td><td>0</td><td>Yes</td><td>Govt_job     </td><td>Rural</td><td>108.35</td><td>40.8</td><td>formerly smoked</td><td>0</td></tr>\n",
              "\t<tr><td>Female</td><td>44  </td><td>0</td><td>0</td><td>Yes</td><td>Private      </td><td>Rural</td><td>72.03 </td><td>37.5</td><td>smokes         </td><td>0</td></tr>\n",
              "\t<tr><td>Female</td><td>19  </td><td>0</td><td>0</td><td>No </td><td>Private      </td><td>Urban</td><td>90.57 </td><td>24.2</td><td>Unknown        </td><td>0</td></tr>\n",
              "\t<tr><td>Male  </td><td>67  </td><td>0</td><td>0</td><td>Yes</td><td>Private      </td><td>Rural</td><td>97.04 </td><td>26.9</td><td>smokes         </td><td>0</td></tr>\n",
              "\t<tr><td>Female</td><td>72  </td><td>0</td><td>0</td><td>Yes</td><td>Private      </td><td>Urban</td><td>83.89 </td><td>33.1</td><td>formerly smoked</td><td>0</td></tr>\n",
              "\t<tr><td>Female</td><td>51  </td><td>0</td><td>0</td><td>Yes</td><td>Private      </td><td>Urban</td><td>152.56</td><td>21.8</td><td>Unknown        </td><td>0</td></tr>\n",
              "\t<tr><td>Female</td><td>63  </td><td>0</td><td>0</td><td>Yes</td><td>Self-employed</td><td>Rural</td><td>75.93 </td><td>34.7</td><td>formerly smoked</td><td>0</td></tr>\n",
              "\t<tr><td>Female</td><td>64  </td><td>1</td><td>0</td><td>Yes</td><td>Self-employed</td><td>Urban</td><td>76.89 </td><td>30.2</td><td>Unknown        </td><td>0</td></tr>\n",
              "\t<tr><td>Female</td><td>0.72</td><td>0</td><td>0</td><td>No </td><td>children     </td><td>Rural</td><td>62.13 </td><td>16.8</td><td>Unknown        </td><td>0</td></tr>\n",
              "\t<tr><td>Male  </td><td>26  </td><td>0</td><td>0</td><td>No </td><td>Govt_job     </td><td>Rural</td><td>100.85</td><td>21  </td><td>smokes         </td><td>0</td></tr>\n",
              "\t<tr><td>Male  </td><td>59  </td><td>1</td><td>0</td><td>Yes</td><td>Private      </td><td>Rural</td><td>95.05 </td><td>30.9</td><td>never smoked   </td><td>0</td></tr>\n",
              "\t<tr><td>Male  </td><td>76  </td><td>0</td><td>0</td><td>Yes</td><td>Govt_job     </td><td>Urban</td><td>82.35 </td><td>38.9</td><td>never smoked   </td><td>0</td></tr>\n",
              "\t<tr><td>Female</td><td>45  </td><td>1</td><td>0</td><td>Yes</td><td>Govt_job     </td><td>Rural</td><td>95.02 </td><td>N/A </td><td>smokes         </td><td>0</td></tr>\n",
              "\t<tr><td>Male  </td><td>13  </td><td>0</td><td>0</td><td>No </td><td>children     </td><td>Urban</td><td>82.38 </td><td>24.3</td><td>Unknown        </td><td>0</td></tr>\n",
              "\t<tr><td>Male  </td><td>1.08</td><td>0</td><td>0</td><td>No </td><td>children     </td><td>Rural</td><td>79.15 </td><td>17.4</td><td>Unknown        </td><td>0</td></tr>\n",
              "\t<tr><td>Male  </td><td>57  </td><td>0</td><td>0</td><td>Yes</td><td>Govt_job     </td><td>Rural</td><td>76.62 </td><td>28.2</td><td>never smoked   </td><td>0</td></tr>\n",
              "\t<tr><td>Male  </td><td>68  </td><td>0</td><td>0</td><td>Yes</td><td>Self-employed</td><td>Urban</td><td>91.68 </td><td>40.8</td><td>Unknown        </td><td>0</td></tr>\n",
              "\t<tr><td>Male  </td><td>9   </td><td>0</td><td>0</td><td>No </td><td>children     </td><td>Urban</td><td>71.88 </td><td>17.5</td><td>Unknown        </td><td>0</td></tr>\n",
              "\t<tr><td>Male  </td><td>40  </td><td>0</td><td>0</td><td>Yes</td><td>Private      </td><td>Rural</td><td>83.94 </td><td>N/A </td><td>smokes         </td><td>0</td></tr>\n",
              "\t<tr><td>Male  </td><td>82  </td><td>1</td><td>0</td><td>Yes</td><td>Self-employed</td><td>Rural</td><td>71.97 </td><td>28.3</td><td>never smoked   </td><td>0</td></tr>\n",
              "\t<tr><td>Female</td><td>45  </td><td>0</td><td>0</td><td>Yes</td><td>Private      </td><td>Urban</td><td>97.95 </td><td>24.5</td><td>Unknown        </td><td>0</td></tr>\n",
              "\t<tr><td>Female</td><td>57  </td><td>0</td><td>0</td><td>Yes</td><td>Private      </td><td>Rural</td><td>77.93 </td><td>21.7</td><td>never smoked   </td><td>0</td></tr>\n",
              "\t<tr><td>Female</td><td>18  </td><td>0</td><td>0</td><td>No </td><td>Private      </td><td>Urban</td><td>82.85 </td><td>46.9</td><td>Unknown        </td><td>0</td></tr>\n",
              "\t<tr><td>Female</td><td>13  </td><td>0</td><td>0</td><td>No </td><td>children     </td><td>Rural</td><td>103.08</td><td>18.6</td><td>Unknown        </td><td>0</td></tr>\n",
              "\t<tr><td>Female</td><td>80  </td><td>1</td><td>0</td><td>Yes</td><td>Private      </td><td>Urban</td><td>83.75 </td><td>N/A </td><td>never smoked   </td><td>0</td></tr>\n",
              "\t<tr><td>Female</td><td>81  </td><td>0</td><td>0</td><td>Yes</td><td>Self-employed</td><td>Urban</td><td>125.2 </td><td>40  </td><td>never smoked   </td><td>0</td></tr>\n",
              "\t<tr><td>Female</td><td>35  </td><td>0</td><td>0</td><td>Yes</td><td>Self-employed</td><td>Rural</td><td>82.99 </td><td>30.6</td><td>never smoked   </td><td>0</td></tr>\n",
              "\t<tr><td>Male  </td><td>51  </td><td>0</td><td>0</td><td>Yes</td><td>Private      </td><td>Rural</td><td>166.29</td><td>25.6</td><td>formerly smoked</td><td>0</td></tr>\n",
              "\t<tr><td>Female</td><td>44  </td><td>0</td><td>0</td><td>Yes</td><td>Govt_job     </td><td>Urban</td><td>85.28 </td><td>26.2</td><td>Unknown        </td><td>0</td></tr>\n",
              "</tbody>\n",
              "</table>\n"
            ],
            "text/markdown": "\nA tibble: 5110 × 11\n\n| gender &lt;chr&gt; | age &lt;chr&gt; | hypertension &lt;dbl&gt; | heart_disease &lt;dbl&gt; | ever_married &lt;chr&gt; | work_type &lt;chr&gt; | Residence_type &lt;chr&gt; | avg_glucose_level &lt;chr&gt; | bmi &lt;chr&gt; | smoking_status &lt;chr&gt; | stroke &lt;dbl&gt; |\n|---|---|---|---|---|---|---|---|---|---|---|\n| Male   | 67 | 0 | 1 | Yes | Private       | Urban | 228.69 | 36.6 | formerly smoked | 1 |\n| Female | 61 | 0 | 0 | Yes | Self-employed | Rural | 202.21 | N/A  | never smoked    | 1 |\n| Male   | 80 | 0 | 1 | Yes | Private       | Rural | 105.92 | 32.5 | never smoked    | 1 |\n| Female | 49 | 0 | 0 | Yes | Private       | Urban | 171.23 | 34.4 | smokes          | 1 |\n| Female | 79 | 1 | 0 | Yes | Self-employed | Rural | 174.12 | 24   | never smoked    | 1 |\n| Male   | 81 | 0 | 0 | Yes | Private       | Urban | 186.21 | 29   | formerly smoked | 1 |\n| Male   | 74 | 1 | 1 | Yes | Private       | Rural | 70.09  | 27.4 | never smoked    | 1 |\n| Female | 69 | 0 | 0 | No  | Private       | Urban | 94.39  | 22.8 | never smoked    | 1 |\n| Female | 59 | 0 | 0 | Yes | Private       | Rural | 76.15  | N/A  | Unknown         | 1 |\n| Female | 78 | 0 | 0 | Yes | Private       | Urban | 58.57  | 24.2 | Unknown         | 1 |\n| Female | 81 | 1 | 0 | Yes | Private       | Rural | 80.43  | 29.7 | never smoked    | 1 |\n| Female | 61 | 0 | 1 | Yes | Govt_job      | Rural | 120.46 | 36.8 | smokes          | 1 |\n| Female | 54 | 0 | 0 | Yes | Private       | Urban | 104.51 | 27.3 | smokes          | 1 |\n| Male   | 78 | 0 | 1 | Yes | Private       | Urban | 219.84 | N/A  | Unknown         | 1 |\n| Female | 79 | 0 | 1 | Yes | Private       | Urban | 214.09 | 28.2 | never smoked    | 1 |\n| Female | 50 | 1 | 0 | Yes | Self-employed | Rural | 167.41 | 30.9 | never smoked    | 1 |\n| Male   | 64 | 0 | 1 | Yes | Private       | Urban | 191.61 | 37.5 | smokes          | 1 |\n| Male   | 75 | 1 | 0 | Yes | Private       | Urban | 221.29 | 25.8 | smokes          | 1 |\n| Female | 60 | 0 | 0 | No  | Private       | Urban | 89.22  | 37.8 | never smoked    | 1 |\n| Male   | 57 | 0 | 1 | No  | Govt_job      | Urban | 217.08 | N/A  | Unknown         | 1 |\n| Female | 71 | 0 | 0 | Yes | Govt_job      | Rural | 193.94 | 22.4 | smokes          | 1 |\n| Female | 52 | 1 | 0 | Yes | Self-employed | Urban | 233.29 | 48.9 | never smoked    | 1 |\n| Female | 79 | 0 | 0 | Yes | Self-employed | Urban | 228.7  | 26.6 | never smoked    | 1 |\n| Male   | 82 | 0 | 1 | Yes | Private       | Rural | 208.3  | 32.5 | Unknown         | 1 |\n| Male   | 71 | 0 | 0 | Yes | Private       | Urban | 102.87 | 27.2 | formerly smoked | 1 |\n| Male   | 80 | 0 | 0 | Yes | Self-employed | Rural | 104.12 | 23.5 | never smoked    | 1 |\n| Female | 65 | 0 | 0 | Yes | Private       | Rural | 100.98 | 28.2 | formerly smoked | 1 |\n| Male   | 58 | 0 | 0 | Yes | Private       | Rural | 189.84 | N/A  | Unknown         | 1 |\n| Male   | 69 | 0 | 1 | Yes | Self-employed | Urban | 195.23 | 28.3 | smokes          | 1 |\n| Male   | 59 | 0 | 0 | Yes | Private       | Rural | 211.78 | N/A  | formerly smoked | 1 |\n| ⋮ | ⋮ | ⋮ | ⋮ | ⋮ | ⋮ | ⋮ | ⋮ | ⋮ | ⋮ | ⋮ |\n| Female | 29   | 0 | 0 | Yes | Self-employed | Urban | 90.52  | 28   | never smoked    | 0 |\n| Male   | 55   | 0 | 0 | Yes | Govt_job      | Rural | 108.35 | 40.8 | formerly smoked | 0 |\n| Female | 44   | 0 | 0 | Yes | Private       | Rural | 72.03  | 37.5 | smokes          | 0 |\n| Female | 19   | 0 | 0 | No  | Private       | Urban | 90.57  | 24.2 | Unknown         | 0 |\n| Male   | 67   | 0 | 0 | Yes | Private       | Rural | 97.04  | 26.9 | smokes          | 0 |\n| Female | 72   | 0 | 0 | Yes | Private       | Urban | 83.89  | 33.1 | formerly smoked | 0 |\n| Female | 51   | 0 | 0 | Yes | Private       | Urban | 152.56 | 21.8 | Unknown         | 0 |\n| Female | 63   | 0 | 0 | Yes | Self-employed | Rural | 75.93  | 34.7 | formerly smoked | 0 |\n| Female | 64   | 1 | 0 | Yes | Self-employed | Urban | 76.89  | 30.2 | Unknown         | 0 |\n| Female | 0.72 | 0 | 0 | No  | children      | Rural | 62.13  | 16.8 | Unknown         | 0 |\n| Male   | 26   | 0 | 0 | No  | Govt_job      | Rural | 100.85 | 21   | smokes          | 0 |\n| Male   | 59   | 1 | 0 | Yes | Private       | Rural | 95.05  | 30.9 | never smoked    | 0 |\n| Male   | 76   | 0 | 0 | Yes | Govt_job      | Urban | 82.35  | 38.9 | never smoked    | 0 |\n| Female | 45   | 1 | 0 | Yes | Govt_job      | Rural | 95.02  | N/A  | smokes          | 0 |\n| Male   | 13   | 0 | 0 | No  | children      | Urban | 82.38  | 24.3 | Unknown         | 0 |\n| Male   | 1.08 | 0 | 0 | No  | children      | Rural | 79.15  | 17.4 | Unknown         | 0 |\n| Male   | 57   | 0 | 0 | Yes | Govt_job      | Rural | 76.62  | 28.2 | never smoked    | 0 |\n| Male   | 68   | 0 | 0 | Yes | Self-employed | Urban | 91.68  | 40.8 | Unknown         | 0 |\n| Male   | 9    | 0 | 0 | No  | children      | Urban | 71.88  | 17.5 | Unknown         | 0 |\n| Male   | 40   | 0 | 0 | Yes | Private       | Rural | 83.94  | N/A  | smokes          | 0 |\n| Male   | 82   | 1 | 0 | Yes | Self-employed | Rural | 71.97  | 28.3 | never smoked    | 0 |\n| Female | 45   | 0 | 0 | Yes | Private       | Urban | 97.95  | 24.5 | Unknown         | 0 |\n| Female | 57   | 0 | 0 | Yes | Private       | Rural | 77.93  | 21.7 | never smoked    | 0 |\n| Female | 18   | 0 | 0 | No  | Private       | Urban | 82.85  | 46.9 | Unknown         | 0 |\n| Female | 13   | 0 | 0 | No  | children      | Rural | 103.08 | 18.6 | Unknown         | 0 |\n| Female | 80   | 1 | 0 | Yes | Private       | Urban | 83.75  | N/A  | never smoked    | 0 |\n| Female | 81   | 0 | 0 | Yes | Self-employed | Urban | 125.2  | 40   | never smoked    | 0 |\n| Female | 35   | 0 | 0 | Yes | Self-employed | Rural | 82.99  | 30.6 | never smoked    | 0 |\n| Male   | 51   | 0 | 0 | Yes | Private       | Rural | 166.29 | 25.6 | formerly smoked | 0 |\n| Female | 44   | 0 | 0 | Yes | Govt_job      | Urban | 85.28  | 26.2 | Unknown         | 0 |\n\n",
            "text/latex": "A tibble: 5110 × 11\n\\begin{tabular}{lllllllllll}\n gender & age & hypertension & heart\\_disease & ever\\_married & work\\_type & Residence\\_type & avg\\_glucose\\_level & bmi & smoking\\_status & stroke\\\\\n <chr> & <chr> & <dbl> & <dbl> & <chr> & <chr> & <chr> & <chr> & <chr> & <chr> & <dbl>\\\\\n\\hline\n\t Male   & 67 & 0 & 1 & Yes & Private       & Urban & 228.69 & 36.6 & formerly smoked & 1\\\\\n\t Female & 61 & 0 & 0 & Yes & Self-employed & Rural & 202.21 & N/A  & never smoked    & 1\\\\\n\t Male   & 80 & 0 & 1 & Yes & Private       & Rural & 105.92 & 32.5 & never smoked    & 1\\\\\n\t Female & 49 & 0 & 0 & Yes & Private       & Urban & 171.23 & 34.4 & smokes          & 1\\\\\n\t Female & 79 & 1 & 0 & Yes & Self-employed & Rural & 174.12 & 24   & never smoked    & 1\\\\\n\t Male   & 81 & 0 & 0 & Yes & Private       & Urban & 186.21 & 29   & formerly smoked & 1\\\\\n\t Male   & 74 & 1 & 1 & Yes & Private       & Rural & 70.09  & 27.4 & never smoked    & 1\\\\\n\t Female & 69 & 0 & 0 & No  & Private       & Urban & 94.39  & 22.8 & never smoked    & 1\\\\\n\t Female & 59 & 0 & 0 & Yes & Private       & Rural & 76.15  & N/A  & Unknown         & 1\\\\\n\t Female & 78 & 0 & 0 & Yes & Private       & Urban & 58.57  & 24.2 & Unknown         & 1\\\\\n\t Female & 81 & 1 & 0 & Yes & Private       & Rural & 80.43  & 29.7 & never smoked    & 1\\\\\n\t Female & 61 & 0 & 1 & Yes & Govt\\_job      & Rural & 120.46 & 36.8 & smokes          & 1\\\\\n\t Female & 54 & 0 & 0 & Yes & Private       & Urban & 104.51 & 27.3 & smokes          & 1\\\\\n\t Male   & 78 & 0 & 1 & Yes & Private       & Urban & 219.84 & N/A  & Unknown         & 1\\\\\n\t Female & 79 & 0 & 1 & Yes & Private       & Urban & 214.09 & 28.2 & never smoked    & 1\\\\\n\t Female & 50 & 1 & 0 & Yes & Self-employed & Rural & 167.41 & 30.9 & never smoked    & 1\\\\\n\t Male   & 64 & 0 & 1 & Yes & Private       & Urban & 191.61 & 37.5 & smokes          & 1\\\\\n\t Male   & 75 & 1 & 0 & Yes & Private       & Urban & 221.29 & 25.8 & smokes          & 1\\\\\n\t Female & 60 & 0 & 0 & No  & Private       & Urban & 89.22  & 37.8 & never smoked    & 1\\\\\n\t Male   & 57 & 0 & 1 & No  & Govt\\_job      & Urban & 217.08 & N/A  & Unknown         & 1\\\\\n\t Female & 71 & 0 & 0 & Yes & Govt\\_job      & Rural & 193.94 & 22.4 & smokes          & 1\\\\\n\t Female & 52 & 1 & 0 & Yes & Self-employed & Urban & 233.29 & 48.9 & never smoked    & 1\\\\\n\t Female & 79 & 0 & 0 & Yes & Self-employed & Urban & 228.7  & 26.6 & never smoked    & 1\\\\\n\t Male   & 82 & 0 & 1 & Yes & Private       & Rural & 208.3  & 32.5 & Unknown         & 1\\\\\n\t Male   & 71 & 0 & 0 & Yes & Private       & Urban & 102.87 & 27.2 & formerly smoked & 1\\\\\n\t Male   & 80 & 0 & 0 & Yes & Self-employed & Rural & 104.12 & 23.5 & never smoked    & 1\\\\\n\t Female & 65 & 0 & 0 & Yes & Private       & Rural & 100.98 & 28.2 & formerly smoked & 1\\\\\n\t Male   & 58 & 0 & 0 & Yes & Private       & Rural & 189.84 & N/A  & Unknown         & 1\\\\\n\t Male   & 69 & 0 & 1 & Yes & Self-employed & Urban & 195.23 & 28.3 & smokes          & 1\\\\\n\t Male   & 59 & 0 & 0 & Yes & Private       & Rural & 211.78 & N/A  & formerly smoked & 1\\\\\n\t ⋮ & ⋮ & ⋮ & ⋮ & ⋮ & ⋮ & ⋮ & ⋮ & ⋮ & ⋮ & ⋮\\\\\n\t Female & 29   & 0 & 0 & Yes & Self-employed & Urban & 90.52  & 28   & never smoked    & 0\\\\\n\t Male   & 55   & 0 & 0 & Yes & Govt\\_job      & Rural & 108.35 & 40.8 & formerly smoked & 0\\\\\n\t Female & 44   & 0 & 0 & Yes & Private       & Rural & 72.03  & 37.5 & smokes          & 0\\\\\n\t Female & 19   & 0 & 0 & No  & Private       & Urban & 90.57  & 24.2 & Unknown         & 0\\\\\n\t Male   & 67   & 0 & 0 & Yes & Private       & Rural & 97.04  & 26.9 & smokes          & 0\\\\\n\t Female & 72   & 0 & 0 & Yes & Private       & Urban & 83.89  & 33.1 & formerly smoked & 0\\\\\n\t Female & 51   & 0 & 0 & Yes & Private       & Urban & 152.56 & 21.8 & Unknown         & 0\\\\\n\t Female & 63   & 0 & 0 & Yes & Self-employed & Rural & 75.93  & 34.7 & formerly smoked & 0\\\\\n\t Female & 64   & 1 & 0 & Yes & Self-employed & Urban & 76.89  & 30.2 & Unknown         & 0\\\\\n\t Female & 0.72 & 0 & 0 & No  & children      & Rural & 62.13  & 16.8 & Unknown         & 0\\\\\n\t Male   & 26   & 0 & 0 & No  & Govt\\_job      & Rural & 100.85 & 21   & smokes          & 0\\\\\n\t Male   & 59   & 1 & 0 & Yes & Private       & Rural & 95.05  & 30.9 & never smoked    & 0\\\\\n\t Male   & 76   & 0 & 0 & Yes & Govt\\_job      & Urban & 82.35  & 38.9 & never smoked    & 0\\\\\n\t Female & 45   & 1 & 0 & Yes & Govt\\_job      & Rural & 95.02  & N/A  & smokes          & 0\\\\\n\t Male   & 13   & 0 & 0 & No  & children      & Urban & 82.38  & 24.3 & Unknown         & 0\\\\\n\t Male   & 1.08 & 0 & 0 & No  & children      & Rural & 79.15  & 17.4 & Unknown         & 0\\\\\n\t Male   & 57   & 0 & 0 & Yes & Govt\\_job      & Rural & 76.62  & 28.2 & never smoked    & 0\\\\\n\t Male   & 68   & 0 & 0 & Yes & Self-employed & Urban & 91.68  & 40.8 & Unknown         & 0\\\\\n\t Male   & 9    & 0 & 0 & No  & children      & Urban & 71.88  & 17.5 & Unknown         & 0\\\\\n\t Male   & 40   & 0 & 0 & Yes & Private       & Rural & 83.94  & N/A  & smokes          & 0\\\\\n\t Male   & 82   & 1 & 0 & Yes & Self-employed & Rural & 71.97  & 28.3 & never smoked    & 0\\\\\n\t Female & 45   & 0 & 0 & Yes & Private       & Urban & 97.95  & 24.5 & Unknown         & 0\\\\\n\t Female & 57   & 0 & 0 & Yes & Private       & Rural & 77.93  & 21.7 & never smoked    & 0\\\\\n\t Female & 18   & 0 & 0 & No  & Private       & Urban & 82.85  & 46.9 & Unknown         & 0\\\\\n\t Female & 13   & 0 & 0 & No  & children      & Rural & 103.08 & 18.6 & Unknown         & 0\\\\\n\t Female & 80   & 1 & 0 & Yes & Private       & Urban & 83.75  & N/A  & never smoked    & 0\\\\\n\t Female & 81   & 0 & 0 & Yes & Self-employed & Urban & 125.2  & 40   & never smoked    & 0\\\\\n\t Female & 35   & 0 & 0 & Yes & Self-employed & Rural & 82.99  & 30.6 & never smoked    & 0\\\\\n\t Male   & 51   & 0 & 0 & Yes & Private       & Rural & 166.29 & 25.6 & formerly smoked & 0\\\\\n\t Female & 44   & 0 & 0 & Yes & Govt\\_job      & Urban & 85.28  & 26.2 & Unknown         & 0\\\\\n\\end{tabular}\n",
            "text/plain": [
              "     gender age  hypertension heart_disease ever_married work_type    \n",
              "1    Male   67   0            1             Yes          Private      \n",
              "2    Female 61   0            0             Yes          Self-employed\n",
              "3    Male   80   0            1             Yes          Private      \n",
              "4    Female 49   0            0             Yes          Private      \n",
              "5    Female 79   1            0             Yes          Self-employed\n",
              "6    Male   81   0            0             Yes          Private      \n",
              "7    Male   74   1            1             Yes          Private      \n",
              "8    Female 69   0            0             No           Private      \n",
              "9    Female 59   0            0             Yes          Private      \n",
              "10   Female 78   0            0             Yes          Private      \n",
              "11   Female 81   1            0             Yes          Private      \n",
              "12   Female 61   0            1             Yes          Govt_job     \n",
              "13   Female 54   0            0             Yes          Private      \n",
              "14   Male   78   0            1             Yes          Private      \n",
              "15   Female 79   0            1             Yes          Private      \n",
              "16   Female 50   1            0             Yes          Self-employed\n",
              "17   Male   64   0            1             Yes          Private      \n",
              "18   Male   75   1            0             Yes          Private      \n",
              "19   Female 60   0            0             No           Private      \n",
              "20   Male   57   0            1             No           Govt_job     \n",
              "21   Female 71   0            0             Yes          Govt_job     \n",
              "22   Female 52   1            0             Yes          Self-employed\n",
              "23   Female 79   0            0             Yes          Self-employed\n",
              "24   Male   82   0            1             Yes          Private      \n",
              "25   Male   71   0            0             Yes          Private      \n",
              "26   Male   80   0            0             Yes          Self-employed\n",
              "27   Female 65   0            0             Yes          Private      \n",
              "28   Male   58   0            0             Yes          Private      \n",
              "29   Male   69   0            1             Yes          Self-employed\n",
              "30   Male   59   0            0             Yes          Private      \n",
              "⋮    ⋮      ⋮    ⋮            ⋮             ⋮            ⋮            \n",
              "5081 Female 29   0            0             Yes          Self-employed\n",
              "5082 Male   55   0            0             Yes          Govt_job     \n",
              "5083 Female 44   0            0             Yes          Private      \n",
              "5084 Female 19   0            0             No           Private      \n",
              "5085 Male   67   0            0             Yes          Private      \n",
              "5086 Female 72   0            0             Yes          Private      \n",
              "5087 Female 51   0            0             Yes          Private      \n",
              "5088 Female 63   0            0             Yes          Self-employed\n",
              "5089 Female 64   1            0             Yes          Self-employed\n",
              "5090 Female 0.72 0            0             No           children     \n",
              "5091 Male   26   0            0             No           Govt_job     \n",
              "5092 Male   59   1            0             Yes          Private      \n",
              "5093 Male   76   0            0             Yes          Govt_job     \n",
              "5094 Female 45   1            0             Yes          Govt_job     \n",
              "5095 Male   13   0            0             No           children     \n",
              "5096 Male   1.08 0            0             No           children     \n",
              "5097 Male   57   0            0             Yes          Govt_job     \n",
              "5098 Male   68   0            0             Yes          Self-employed\n",
              "5099 Male   9    0            0             No           children     \n",
              "5100 Male   40   0            0             Yes          Private      \n",
              "5101 Male   82   1            0             Yes          Self-employed\n",
              "5102 Female 45   0            0             Yes          Private      \n",
              "5103 Female 57   0            0             Yes          Private      \n",
              "5104 Female 18   0            0             No           Private      \n",
              "5105 Female 13   0            0             No           children     \n",
              "5106 Female 80   1            0             Yes          Private      \n",
              "5107 Female 81   0            0             Yes          Self-employed\n",
              "5108 Female 35   0            0             Yes          Self-employed\n",
              "5109 Male   51   0            0             Yes          Private      \n",
              "5110 Female 44   0            0             Yes          Govt_job     \n",
              "     Residence_type avg_glucose_level bmi  smoking_status  stroke\n",
              "1    Urban          228.69            36.6 formerly smoked 1     \n",
              "2    Rural          202.21            N/A  never smoked    1     \n",
              "3    Rural          105.92            32.5 never smoked    1     \n",
              "4    Urban          171.23            34.4 smokes          1     \n",
              "5    Rural          174.12            24   never smoked    1     \n",
              "6    Urban          186.21            29   formerly smoked 1     \n",
              "7    Rural          70.09             27.4 never smoked    1     \n",
              "8    Urban          94.39             22.8 never smoked    1     \n",
              "9    Rural          76.15             N/A  Unknown         1     \n",
              "10   Urban          58.57             24.2 Unknown         1     \n",
              "11   Rural          80.43             29.7 never smoked    1     \n",
              "12   Rural          120.46            36.8 smokes          1     \n",
              "13   Urban          104.51            27.3 smokes          1     \n",
              "14   Urban          219.84            N/A  Unknown         1     \n",
              "15   Urban          214.09            28.2 never smoked    1     \n",
              "16   Rural          167.41            30.9 never smoked    1     \n",
              "17   Urban          191.61            37.5 smokes          1     \n",
              "18   Urban          221.29            25.8 smokes          1     \n",
              "19   Urban          89.22             37.8 never smoked    1     \n",
              "20   Urban          217.08            N/A  Unknown         1     \n",
              "21   Rural          193.94            22.4 smokes          1     \n",
              "22   Urban          233.29            48.9 never smoked    1     \n",
              "23   Urban          228.7             26.6 never smoked    1     \n",
              "24   Rural          208.3             32.5 Unknown         1     \n",
              "25   Urban          102.87            27.2 formerly smoked 1     \n",
              "26   Rural          104.12            23.5 never smoked    1     \n",
              "27   Rural          100.98            28.2 formerly smoked 1     \n",
              "28   Rural          189.84            N/A  Unknown         1     \n",
              "29   Urban          195.23            28.3 smokes          1     \n",
              "30   Rural          211.78            N/A  formerly smoked 1     \n",
              "⋮    ⋮              ⋮                 ⋮    ⋮               ⋮     \n",
              "5081 Urban          90.52             28   never smoked    0     \n",
              "5082 Rural          108.35            40.8 formerly smoked 0     \n",
              "5083 Rural          72.03             37.5 smokes          0     \n",
              "5084 Urban          90.57             24.2 Unknown         0     \n",
              "5085 Rural          97.04             26.9 smokes          0     \n",
              "5086 Urban          83.89             33.1 formerly smoked 0     \n",
              "5087 Urban          152.56            21.8 Unknown         0     \n",
              "5088 Rural          75.93             34.7 formerly smoked 0     \n",
              "5089 Urban          76.89             30.2 Unknown         0     \n",
              "5090 Rural          62.13             16.8 Unknown         0     \n",
              "5091 Rural          100.85            21   smokes          0     \n",
              "5092 Rural          95.05             30.9 never smoked    0     \n",
              "5093 Urban          82.35             38.9 never smoked    0     \n",
              "5094 Rural          95.02             N/A  smokes          0     \n",
              "5095 Urban          82.38             24.3 Unknown         0     \n",
              "5096 Rural          79.15             17.4 Unknown         0     \n",
              "5097 Rural          76.62             28.2 never smoked    0     \n",
              "5098 Urban          91.68             40.8 Unknown         0     \n",
              "5099 Urban          71.88             17.5 Unknown         0     \n",
              "5100 Rural          83.94             N/A  smokes          0     \n",
              "5101 Rural          71.97             28.3 never smoked    0     \n",
              "5102 Urban          97.95             24.5 Unknown         0     \n",
              "5103 Rural          77.93             21.7 never smoked    0     \n",
              "5104 Urban          82.85             46.9 Unknown         0     \n",
              "5105 Rural          103.08            18.6 Unknown         0     \n",
              "5106 Urban          83.75             N/A  never smoked    0     \n",
              "5107 Urban          125.2             40   never smoked    0     \n",
              "5108 Rural          82.99             30.6 never smoked    0     \n",
              "5109 Rural          166.29            25.6 formerly smoked 0     \n",
              "5110 Urban          85.28             26.2 Unknown         0     "
            ]
          },
          "metadata": {}
        }
      ]
    },
    {
      "cell_type": "markdown",
      "source": [
        "# Pre Processing"
      ],
      "metadata": {
        "id": "muqPTGerTdzl"
      }
    },
    {
      "cell_type": "code",
      "source": [
        "# Data Cleaning & EDA\n",
        "summary(data)  # Ringkasan data\n",
        "str(data) # cek tipe data\n"
      ],
      "metadata": {
        "id": "97FUTBdAThHB",
        "colab": {
          "base_uri": "https://localhost:8080/",
          "height": 607
        },
        "outputId": "0ba5b7cd-4142-40da-cee4-8785404e0c66"
      },
      "execution_count": null,
      "outputs": [
        {
          "output_type": "display_data",
          "data": {
            "text/plain": [
              "    gender              age             hypertension     heart_disease    \n",
              " Length:5110        Length:5110        Min.   :0.00000   Min.   :0.00000  \n",
              " Class :character   Class :character   1st Qu.:0.00000   1st Qu.:0.00000  \n",
              " Mode  :character   Mode  :character   Median :0.00000   Median :0.00000  \n",
              "                                       Mean   :0.09746   Mean   :0.05401  \n",
              "                                       3rd Qu.:0.00000   3rd Qu.:0.00000  \n",
              "                                       Max.   :1.00000   Max.   :1.00000  \n",
              " ever_married        work_type         Residence_type     avg_glucose_level \n",
              " Length:5110        Length:5110        Length:5110        Length:5110       \n",
              " Class :character   Class :character   Class :character   Class :character  \n",
              " Mode  :character   Mode  :character   Mode  :character   Mode  :character  \n",
              "                                                                            \n",
              "                                                                            \n",
              "                                                                            \n",
              "     bmi            smoking_status         stroke       \n",
              " Length:5110        Length:5110        Min.   :0.00000  \n",
              " Class :character   Class :character   1st Qu.:0.00000  \n",
              " Mode  :character   Mode  :character   Median :0.00000  \n",
              "                                       Mean   :0.04873  \n",
              "                                       3rd Qu.:0.00000  \n",
              "                                       Max.   :1.00000  "
            ]
          },
          "metadata": {}
        },
        {
          "output_type": "stream",
          "name": "stdout",
          "text": [
            "tibble [5,110 × 11] (S3: tbl_df/tbl/data.frame)\n",
            " $ gender           : chr [1:5110] \"Male\" \"Female\" \"Male\" \"Female\" ...\n",
            " $ age              : chr [1:5110] \"67\" \"61\" \"80\" \"49\" ...\n",
            " $ hypertension     : num [1:5110] 0 0 0 0 1 0 1 0 0 0 ...\n",
            " $ heart_disease    : num [1:5110] 1 0 1 0 0 0 1 0 0 0 ...\n",
            " $ ever_married     : chr [1:5110] \"Yes\" \"Yes\" \"Yes\" \"Yes\" ...\n",
            " $ work_type        : chr [1:5110] \"Private\" \"Self-employed\" \"Private\" \"Private\" ...\n",
            " $ Residence_type   : chr [1:5110] \"Urban\" \"Rural\" \"Rural\" \"Urban\" ...\n",
            " $ avg_glucose_level: chr [1:5110] \"228.69\" \"202.21\" \"105.92\" \"171.23\" ...\n",
            " $ bmi              : chr [1:5110] \"36.6\" \"N/A\" \"32.5\" \"34.4\" ...\n",
            " $ smoking_status   : chr [1:5110] \"formerly smoked\" \"never smoked\" \"never smoked\" \"smokes\" ...\n",
            " $ stroke           : num [1:5110] 1 1 1 1 1 1 1 1 1 1 ...\n"
          ]
        }
      ]
    },
    {
      "cell_type": "code",
      "source": [
        "# ubah data ke numeric\n",
        "data$bmi <-as.numeric(data$bmi)\n",
        "data$avg_glucose_level <-as.numeric(data$avg_glucose_level)\n",
        "data$age <-as.numeric(data$age)\n",
        "\n",
        "# Konversi variabel kategorik menjadi factor\n",
        "data$gender <- as.factor(data$gender)\n",
        "data$ever_married <- as.factor(data$ever_married)\n",
        "data$work_type <- as.factor(data$work_type)\n",
        "data$Residence_type <- as.factor(data$Residence_type)\n",
        "data$smoking_status <- as.factor(data$smoking_status)\n",
        "data$hypertension <- as.factor(data$hypertension)\n",
        "data$heart_disease <- as.factor(data$heart_disease)\n",
        "\n",
        "# Konversi faktor ke numeric biner\n",
        "data$stroke <- as.numeric(as.character(data$stroke))\n",
        "# Pastikan hanya ada nilai 0 dan 1\n",
        "table(data$stroke)\n",
        "\n"
      ],
      "metadata": {
        "id": "QlWp0SxuTjVn",
        "colab": {
          "base_uri": "https://localhost:8080/",
          "height": 106
        },
        "outputId": "6b4b6162-6f25-47ad-def2-981295fc2bf8"
      },
      "execution_count": null,
      "outputs": [
        {
          "output_type": "stream",
          "name": "stderr",
          "text": [
            "Warning message:\n",
            "“NAs introduced by coercion”\n"
          ]
        },
        {
          "output_type": "display_data",
          "data": {
            "text/plain": [
              "\n",
              "   0    1 \n",
              "4861  249 "
            ]
          },
          "metadata": {}
        }
      ]
    },
    {
      "cell_type": "code",
      "source": [
        "summary(data)"
      ],
      "metadata": {
        "colab": {
          "base_uri": "https://localhost:8080/",
          "height": 446
        },
        "id": "-dqfi1jo7jLs",
        "outputId": "2c2a8134-30ff-4909-a583-5cd674b728d6"
      },
      "execution_count": null,
      "outputs": [
        {
          "output_type": "display_data",
          "data": {
            "text/plain": [
              "    gender          age        hypertension heart_disease ever_married\n",
              " Female:2994   Min.   : 0.08   0:4612       0:4834        No :1757    \n",
              " Male  :2115   1st Qu.:25.00   1: 498       1: 276        Yes:3353    \n",
              " Other :   1   Median :45.00                                          \n",
              "               Mean   :43.23                                          \n",
              "               3rd Qu.:61.00                                          \n",
              "               Max.   :82.00                                          \n",
              "                                                                      \n",
              "         work_type    Residence_type avg_glucose_level      bmi       \n",
              " children     : 687   Rural:2514     Min.   : 55.12    Min.   :10.30  \n",
              " Govt_job     : 657   Urban:2596     1st Qu.: 77.25    1st Qu.:23.50  \n",
              " Never_worked :  22                  Median : 91.89    Median :28.10  \n",
              " Private      :2925                  Mean   :106.15    Mean   :28.89  \n",
              " Self-employed: 819                  3rd Qu.:114.09    3rd Qu.:33.10  \n",
              "                                     Max.   :271.74    Max.   :97.60  \n",
              "                                                       NA's   :201    \n",
              "         smoking_status     stroke       \n",
              " formerly smoked: 885   Min.   :0.00000  \n",
              " never smoked   :1892   1st Qu.:0.00000  \n",
              " smokes         : 789   Median :0.00000  \n",
              " Unknown        :1544   Mean   :0.04873  \n",
              "                        3rd Qu.:0.00000  \n",
              "                        Max.   :1.00000  \n",
              "                                         "
            ]
          },
          "metadata": {}
        }
      ]
    },
    {
      "cell_type": "code",
      "source": [
        "# Menghapus baris dengan nilai \"other\" dalam kolom gender (Noise)\n",
        "data <- data[data$gender != \"Other\", ]\n",
        "# Cek apakah masih ada baris dengan \"other\"\n",
        "table(data$gender)\n",
        "\n",
        "\n",
        "#Cek missing value\n",
        "colSums(is.na(data))\n",
        "\n",
        "# Imputasi mv dengan mean\n",
        "mean_bmi <- mean(data$bmi, na.rm = TRUE)\n",
        "mean_bmi\n",
        "data$bmi[is.na(data$bmi)] <- mean_bmi\n",
        "\n",
        "summary(data) # cek lagi\n",
        "str(data)\n"
      ],
      "metadata": {
        "id": "b-SbQBm0TrLL",
        "colab": {
          "base_uri": "https://localhost:8080/",
          "height": 695
        },
        "outputId": "7f409f67-e177-42e7-f629-2b32f578e6c2"
      },
      "execution_count": null,
      "outputs": [
        {
          "output_type": "display_data",
          "data": {
            "text/plain": [
              "\n",
              "Female   Male  Other \n",
              "  2994   2115      0 "
            ]
          },
          "metadata": {}
        },
        {
          "output_type": "display_data",
          "data": {
            "text/html": [
              "<style>\n",
              ".dl-inline {width: auto; margin:0; padding: 0}\n",
              ".dl-inline>dt, .dl-inline>dd {float: none; width: auto; display: inline-block}\n",
              ".dl-inline>dt::after {content: \":\\0020\"; padding-right: .5ex}\n",
              ".dl-inline>dt:not(:first-of-type) {padding-left: .5ex}\n",
              "</style><dl class=dl-inline><dt>gender</dt><dd>0</dd><dt>age</dt><dd>0</dd><dt>hypertension</dt><dd>0</dd><dt>heart_disease</dt><dd>0</dd><dt>ever_married</dt><dd>0</dd><dt>work_type</dt><dd>0</dd><dt>Residence_type</dt><dd>0</dd><dt>avg_glucose_level</dt><dd>0</dd><dt>bmi</dt><dd>201</dd><dt>smoking_status</dt><dd>0</dd><dt>stroke</dt><dd>0</dd></dl>\n"
            ],
            "text/markdown": "gender\n:   0age\n:   0hypertension\n:   0heart_disease\n:   0ever_married\n:   0work_type\n:   0Residence_type\n:   0avg_glucose_level\n:   0bmi\n:   201smoking_status\n:   0stroke\n:   0\n\n",
            "text/latex": "\\begin{description*}\n\\item[gender] 0\n\\item[age] 0\n\\item[hypertension] 0\n\\item[heart\\textbackslash{}\\_disease] 0\n\\item[ever\\textbackslash{}\\_married] 0\n\\item[work\\textbackslash{}\\_type] 0\n\\item[Residence\\textbackslash{}\\_type] 0\n\\item[avg\\textbackslash{}\\_glucose\\textbackslash{}\\_level] 0\n\\item[bmi] 201\n\\item[smoking\\textbackslash{}\\_status] 0\n\\item[stroke] 0\n\\end{description*}\n",
            "text/plain": [
              "           gender               age      hypertension     heart_disease \n",
              "                0                 0                 0                 0 \n",
              "     ever_married         work_type    Residence_type avg_glucose_level \n",
              "                0                 0                 0                 0 \n",
              "              bmi    smoking_status            stroke \n",
              "              201                 0                 0 "
            ]
          },
          "metadata": {}
        },
        {
          "output_type": "display_data",
          "data": {
            "text/html": [
              "28.8945599022005"
            ],
            "text/markdown": "28.8945599022005",
            "text/latex": "28.8945599022005",
            "text/plain": [
              "[1] 28.89456"
            ]
          },
          "metadata": {}
        },
        {
          "output_type": "display_data",
          "data": {
            "text/plain": [
              "    gender          age        hypertension heart_disease ever_married\n",
              " Female:2994   Min.   : 0.08   0:4611       0:4833        No :1756    \n",
              " Male  :2115   1st Qu.:25.00   1: 498       1: 276        Yes:3353    \n",
              " Other :   0   Median :45.00                                          \n",
              "               Mean   :43.23                                          \n",
              "               3rd Qu.:61.00                                          \n",
              "               Max.   :82.00                                          \n",
              "         work_type    Residence_type avg_glucose_level      bmi       \n",
              " children     : 687   Rural:2513     Min.   : 55.12    Min.   :10.30  \n",
              " Govt_job     : 657   Urban:2596     1st Qu.: 77.24    1st Qu.:23.80  \n",
              " Never_worked :  22                  Median : 91.88    Median :28.40  \n",
              " Private      :2924                  Mean   :106.14    Mean   :28.89  \n",
              " Self-employed: 819                  3rd Qu.:114.09    3rd Qu.:32.80  \n",
              "                                     Max.   :271.74    Max.   :97.60  \n",
              "         smoking_status     stroke       \n",
              " formerly smoked: 884   Min.   :0.00000  \n",
              " never smoked   :1892   1st Qu.:0.00000  \n",
              " smokes         : 789   Median :0.00000  \n",
              " Unknown        :1544   Mean   :0.04874  \n",
              "                        3rd Qu.:0.00000  \n",
              "                        Max.   :1.00000  "
            ]
          },
          "metadata": {}
        },
        {
          "output_type": "stream",
          "name": "stdout",
          "text": [
            "tibble [5,109 × 11] (S3: tbl_df/tbl/data.frame)\n",
            " $ gender           : Factor w/ 3 levels \"Female\",\"Male\",..: 2 1 2 1 1 2 2 1 1 1 ...\n",
            " $ age              : num [1:5109] 67 61 80 49 79 81 74 69 59 78 ...\n",
            " $ hypertension     : Factor w/ 2 levels \"0\",\"1\": 1 1 1 1 2 1 2 1 1 1 ...\n",
            " $ heart_disease    : Factor w/ 2 levels \"0\",\"1\": 2 1 2 1 1 1 2 1 1 1 ...\n",
            " $ ever_married     : Factor w/ 2 levels \"No\",\"Yes\": 2 2 2 2 2 2 2 1 2 2 ...\n",
            " $ work_type        : Factor w/ 5 levels \"children\",\"Govt_job\",..: 4 5 4 4 5 4 4 4 4 4 ...\n",
            " $ Residence_type   : Factor w/ 2 levels \"Rural\",\"Urban\": 2 1 1 2 1 2 1 2 1 2 ...\n",
            " $ avg_glucose_level: num [1:5109] 229 202 106 171 174 ...\n",
            " $ bmi              : num [1:5109] 36.6 28.9 32.5 34.4 24 ...\n",
            " $ smoking_status   : Factor w/ 4 levels \"formerly smoked\",..: 1 2 2 3 2 1 2 2 4 4 ...\n",
            " $ stroke           : num [1:5109] 1 1 1 1 1 1 1 1 1 1 ...\n"
          ]
        }
      ]
    },
    {
      "cell_type": "markdown",
      "source": [
        "# ASUMSI MODEL AWAL"
      ],
      "metadata": {
        "id": "8tv3UYVoTxYR"
      }
    },
    {
      "cell_type": "code",
      "source": [
        "install.packages(\"car\")"
      ],
      "metadata": {
        "id": "084x89J8T7ZD",
        "colab": {
          "base_uri": "https://localhost:8080/"
        },
        "outputId": "2a1f1be4-efe5-4704-c02f-5e835e5b3f86"
      },
      "execution_count": null,
      "outputs": [
        {
          "output_type": "stream",
          "name": "stderr",
          "text": [
            "Installing package into ‘/usr/local/lib/R/site-library’\n",
            "(as ‘lib’ is unspecified)\n",
            "\n",
            "also installing the dependencies ‘cowplot’, ‘Deriv’, ‘microbenchmark’, ‘numDeriv’, ‘doBy’, ‘SparseM’, ‘MatrixModels’, ‘minqa’, ‘nloptr’, ‘RcppEigen’, ‘carData’, ‘abind’, ‘Formula’, ‘pbkrtest’, ‘quantreg’, ‘lme4’\n",
            "\n",
            "\n"
          ]
        }
      ]
    },
    {
      "cell_type": "code",
      "source": [
        "# variabel : gender, age, hypertension, heart_disease, ever_married, work_type, Residence_type, avg_glucose_level, bmi, smoking_status (ada 10)\n",
        "\n",
        "# Asumsi Model Awal dengan interaksi\n",
        "glm.logit <- glm(stroke ~ avg_glucose_level + Residence_type + work_type + ever_married + bmi + heart_disease*hypertension +age*heart_disease + age*hypertension + smoking_status*gender,\n",
        "                 family = binomial(link = \"logit\"),data = data)\n",
        "summary(glm.logit)\n",
        "\n",
        "# Cek Multikolinearitas\n",
        "library(car)\n",
        "vif(glm.logit)\n",
        "#alias(glm.logit)\n",
        "\n",
        "# Model Selection\n",
        "#Backward\n",
        "step(glm.logit, direction = \"backward\")\n",
        "\n",
        "# Stepwise\n",
        "step(glm.logit, direction = \"both\")\n",
        "\n",
        "# Forward\n",
        "# Membuat model regresi logistik awal (tanpa prediktor)\n",
        "glm.null <- glm(stroke ~ 1, family = binomial(link = \"logit\"), data = data)\n",
        "\n",
        "# Melakukan seleksi maju menggunakan step()\n",
        "step(glm.null, direction = \"forward\", scope = ~ gender + avg_glucose_level + Residence_type + ever_married + bmi +smoking_status + work_type + heart_disease*hypertension +age*heart_disease + age*hypertension)\n",
        "\n"
      ],
      "metadata": {
        "id": "3QxryDOHT97t",
        "colab": {
          "base_uri": "https://localhost:8080/",
          "height": 1000
        },
        "outputId": "3a17ebda-ba04-4baa-c097-e652bfb96ffc"
      },
      "execution_count": null,
      "outputs": [
        {
          "output_type": "display_data",
          "data": {
            "text/plain": [
              "\n",
              "Call:\n",
              "glm(formula = stroke ~ avg_glucose_level + Residence_type + work_type + \n",
              "    ever_married + bmi + heart_disease * hypertension + age * \n",
              "    heart_disease + age * hypertension + smoking_status * gender, \n",
              "    family = binomial(link = \"logit\"), data = data)\n",
              "\n",
              "Coefficients:\n",
              "                                        Estimate Std. Error z value Pr(>|z|)\n",
              "(Intercept)                            -6.815132   0.793585  -8.588  < 2e-16\n",
              "avg_glucose_level                       0.003885   0.001202   3.233  0.00122\n",
              "Residence_typeUrban                     0.070406   0.138235   0.509  0.61053\n",
              "work_typeGovt_job                      -1.166791   0.852573  -1.369  0.17114\n",
              "work_typeNever_worked                 -10.349112 309.501676  -0.033  0.97333\n",
              "work_typePrivate                       -1.031307   0.836513  -1.233  0.21763\n",
              "work_typeSelf-employed                 -1.410105   0.855842  -1.648  0.09943\n",
              "ever_marriedYes                        -0.203064   0.225201  -0.902  0.36721\n",
              "bmi                                     0.001710   0.011413   0.150  0.88088\n",
              "heart_disease1                          2.682193   1.309459   2.048  0.04053\n",
              "hypertension1                           1.322502   1.011679   1.307  0.19113\n",
              "age                                     0.079217   0.006563  12.071  < 2e-16\n",
              "smoking_statusnever smoked             -0.150851   0.232383  -0.649  0.51624\n",
              "smoking_statussmokes                   -0.063148   0.310224  -0.204  0.83870\n",
              "smoking_statusUnknown                  -0.167639   0.286369  -0.585  0.55828\n",
              "genderMale                             -0.039452   0.264232  -0.149  0.88131\n",
              "heart_disease1:hypertension1           -0.325321   0.415329  -0.783  0.43346\n",
              "heart_disease1:age                     -0.032203   0.018322  -1.758  0.07881\n",
              "hypertension1:age                      -0.012384   0.014592  -0.849  0.39604\n",
              "smoking_statusnever smoked:genderMale  -0.190103   0.361767  -0.525  0.59925\n",
              "smoking_statussmokes:genderMale         0.333174   0.426240   0.782  0.43442\n",
              "smoking_statusUnknown:genderMale        0.224330   0.410354   0.547  0.58460\n",
              "                                         \n",
              "(Intercept)                           ***\n",
              "avg_glucose_level                     ** \n",
              "Residence_typeUrban                      \n",
              "work_typeGovt_job                        \n",
              "work_typeNever_worked                    \n",
              "work_typePrivate                         \n",
              "work_typeSelf-employed                .  \n",
              "ever_marriedYes                          \n",
              "bmi                                      \n",
              "heart_disease1                        *  \n",
              "hypertension1                            \n",
              "age                                   ***\n",
              "smoking_statusnever smoked               \n",
              "smoking_statussmokes                     \n",
              "smoking_statusUnknown                    \n",
              "genderMale                               \n",
              "heart_disease1:hypertension1             \n",
              "heart_disease1:age                    .  \n",
              "hypertension1:age                        \n",
              "smoking_statusnever smoked:genderMale    \n",
              "smoking_statussmokes:genderMale          \n",
              "smoking_statusUnknown:genderMale         \n",
              "---\n",
              "Signif. codes:  0 ‘***’ 0.001 ‘**’ 0.01 ‘*’ 0.05 ‘.’ 0.1 ‘ ’ 1\n",
              "\n",
              "(Dispersion parameter for binomial family taken to be 1)\n",
              "\n",
              "    Null deviance: 1990.3  on 5108  degrees of freedom\n",
              "Residual deviance: 1574.4  on 5087  degrees of freedom\n",
              "AIC: 1618.4\n",
              "\n",
              "Number of Fisher Scoring iterations: 14\n"
            ]
          },
          "metadata": {}
        },
        {
          "output_type": "stream",
          "name": "stderr",
          "text": [
            "Loading required package: carData\n",
            "\n",
            "there are higher-order terms (interactions) in this model\n",
            "consider setting type = 'predictor'; see ?vif\n",
            "\n"
          ]
        },
        {
          "output_type": "display_data",
          "data": {
            "text/html": [
              "<table class=\"dataframe\">\n",
              "<caption>A matrix: 14 × 3 of type dbl</caption>\n",
              "<thead>\n",
              "\t<tr><th></th><th scope=col>GVIF</th><th scope=col>Df</th><th scope=col>GVIF^(1/(2*Df))</th></tr>\n",
              "</thead>\n",
              "<tbody>\n",
              "\t<tr><th scope=row>avg_glucose_level</th><td> 1.121441</td><td>1</td><td>1.058981</td></tr>\n",
              "\t<tr><th scope=row>Residence_type</th><td> 1.009382</td><td>1</td><td>1.004680</td></tr>\n",
              "\t<tr><th scope=row>work_type</th><td> 1.498642</td><td>4</td><td>1.051870</td></tr>\n",
              "\t<tr><th scope=row>ever_married</th><td> 1.106981</td><td>1</td><td>1.052132</td></tr>\n",
              "\t<tr><th scope=row>bmi</th><td> 1.128648</td><td>1</td><td>1.062379</td></tr>\n",
              "\t<tr><th scope=row>heart_disease</th><td>52.827435</td><td>1</td><td>7.268248</td></tr>\n",
              "\t<tr><th scope=row>hypertension</th><td>40.862915</td><td>1</td><td>6.392411</td></tr>\n",
              "\t<tr><th scope=row>age</th><td> 1.769327</td><td>1</td><td>1.330161</td></tr>\n",
              "\t<tr><th scope=row>smoking_status</th><td> 7.075194</td><td>3</td><td>1.385553</td></tr>\n",
              "\t<tr><th scope=row>gender</th><td> 3.637534</td><td>1</td><td>1.907232</td></tr>\n",
              "\t<tr><th scope=row>heart_disease:hypertension</th><td> 1.650024</td><td>1</td><td>1.284533</td></tr>\n",
              "\t<tr><th scope=row>heart_disease:age</th><td>53.649611</td><td>1</td><td>7.324589</td></tr>\n",
              "\t<tr><th scope=row>hypertension:age</th><td>42.135591</td><td>1</td><td>6.491193</td></tr>\n",
              "\t<tr><th scope=row>smoking_status:gender</th><td>14.389092</td><td>3</td><td>1.559572</td></tr>\n",
              "</tbody>\n",
              "</table>\n"
            ],
            "text/markdown": "\nA matrix: 14 × 3 of type dbl\n\n| <!--/--> | GVIF | Df | GVIF^(1/(2*Df)) |\n|---|---|---|---|\n| avg_glucose_level |  1.121441 | 1 | 1.058981 |\n| Residence_type |  1.009382 | 1 | 1.004680 |\n| work_type |  1.498642 | 4 | 1.051870 |\n| ever_married |  1.106981 | 1 | 1.052132 |\n| bmi |  1.128648 | 1 | 1.062379 |\n| heart_disease | 52.827435 | 1 | 7.268248 |\n| hypertension | 40.862915 | 1 | 6.392411 |\n| age |  1.769327 | 1 | 1.330161 |\n| smoking_status |  7.075194 | 3 | 1.385553 |\n| gender |  3.637534 | 1 | 1.907232 |\n| heart_disease:hypertension |  1.650024 | 1 | 1.284533 |\n| heart_disease:age | 53.649611 | 1 | 7.324589 |\n| hypertension:age | 42.135591 | 1 | 6.491193 |\n| smoking_status:gender | 14.389092 | 3 | 1.559572 |\n\n",
            "text/latex": "A matrix: 14 × 3 of type dbl\n\\begin{tabular}{r|lll}\n  & GVIF & Df & GVIF\\textasciicircum{}(1/(2*Df))\\\\\n\\hline\n\tavg\\_glucose\\_level &  1.121441 & 1 & 1.058981\\\\\n\tResidence\\_type &  1.009382 & 1 & 1.004680\\\\\n\twork\\_type &  1.498642 & 4 & 1.051870\\\\\n\tever\\_married &  1.106981 & 1 & 1.052132\\\\\n\tbmi &  1.128648 & 1 & 1.062379\\\\\n\theart\\_disease & 52.827435 & 1 & 7.268248\\\\\n\thypertension & 40.862915 & 1 & 6.392411\\\\\n\tage &  1.769327 & 1 & 1.330161\\\\\n\tsmoking\\_status &  7.075194 & 3 & 1.385553\\\\\n\tgender &  3.637534 & 1 & 1.907232\\\\\n\theart\\_disease:hypertension &  1.650024 & 1 & 1.284533\\\\\n\theart\\_disease:age & 53.649611 & 1 & 7.324589\\\\\n\thypertension:age & 42.135591 & 1 & 6.491193\\\\\n\tsmoking\\_status:gender & 14.389092 & 3 & 1.559572\\\\\n\\end{tabular}\n",
            "text/plain": [
              "                           GVIF      Df GVIF^(1/(2*Df))\n",
              "avg_glucose_level           1.121441 1  1.058981       \n",
              "Residence_type              1.009382 1  1.004680       \n",
              "work_type                   1.498642 4  1.051870       \n",
              "ever_married                1.106981 1  1.052132       \n",
              "bmi                         1.128648 1  1.062379       \n",
              "heart_disease              52.827435 1  7.268248       \n",
              "hypertension               40.862915 1  6.392411       \n",
              "age                         1.769327 1  1.330161       \n",
              "smoking_status              7.075194 3  1.385553       \n",
              "gender                      3.637534 1  1.907232       \n",
              "heart_disease:hypertension  1.650024 1  1.284533       \n",
              "heart_disease:age          53.649611 1  7.324589       \n",
              "hypertension:age           42.135591 1  6.491193       \n",
              "smoking_status:gender      14.389092 3  1.559572       "
            ]
          },
          "metadata": {}
        },
        {
          "output_type": "stream",
          "name": "stdout",
          "text": [
            "Start:  AIC=1618.36\n",
            "stroke ~ avg_glucose_level + Residence_type + work_type + ever_married + \n",
            "    bmi + heart_disease * hypertension + age * heart_disease + \n",
            "    age * hypertension + smoking_status * gender\n",
            "\n",
            "                             Df Deviance    AIC\n",
            "- smoking_status:gender       3   1576.4 1614.4\n",
            "- bmi                         1   1574.4 1616.4\n",
            "- Residence_type              1   1574.6 1616.6\n",
            "- heart_disease:hypertension  1   1575.0 1617.0\n",
            "- work_type                   4   1581.0 1617.0\n",
            "- hypertension:age            1   1575.1 1617.1\n",
            "- ever_married                1   1575.2 1617.2\n",
            "<none>                            1574.4 1618.4\n",
            "- heart_disease:age           1   1577.2 1619.2\n",
            "- avg_glucose_level           1   1584.5 1626.5\n",
            "\n",
            "Step:  AIC=1614.37\n",
            "stroke ~ avg_glucose_level + Residence_type + work_type + ever_married + \n",
            "    bmi + heart_disease + hypertension + age + smoking_status + \n",
            "    gender + heart_disease:hypertension + heart_disease:age + \n",
            "    hypertension:age\n",
            "\n",
            "                             Df Deviance    AIC\n",
            "- smoking_status              3   1579.1 1611.1\n",
            "- gender                      1   1576.4 1612.4\n",
            "- bmi                         1   1576.4 1612.4\n",
            "- Residence_type              1   1576.7 1612.7\n",
            "- work_type                   4   1582.9 1612.9\n",
            "- hypertension:age            1   1577.0 1613.0\n",
            "- heart_disease:hypertension  1   1577.1 1613.1\n",
            "- ever_married                1   1577.1 1613.1\n",
            "<none>                            1576.4 1614.4\n",
            "- heart_disease:age           1   1579.1 1615.1\n",
            "- avg_glucose_level           1   1586.8 1622.8\n",
            "\n",
            "Step:  AIC=1611.1\n",
            "stroke ~ avg_glucose_level + Residence_type + work_type + ever_married + \n",
            "    bmi + heart_disease + hypertension + age + gender + heart_disease:hypertension + \n",
            "    heart_disease:age + hypertension:age\n",
            "\n",
            "                             Df Deviance    AIC\n",
            "- bmi                         1   1579.1 1609.1\n",
            "- gender                      1   1579.1 1609.1\n",
            "- Residence_type              1   1579.5 1609.5\n",
            "- work_type                   4   1585.6 1609.6\n",
            "- heart_disease:hypertension  1   1579.7 1609.7\n",
            "- ever_married                1   1579.8 1609.8\n",
            "- hypertension:age            1   1579.9 1609.9\n",
            "<none>                            1579.1 1611.1\n",
            "- heart_disease:age           1   1581.9 1611.9\n",
            "- avg_glucose_level           1   1589.5 1619.5\n",
            "\n",
            "Step:  AIC=1609.11\n",
            "stroke ~ avg_glucose_level + Residence_type + work_type + ever_married + \n",
            "    heart_disease + hypertension + age + gender + heart_disease:hypertension + \n",
            "    heart_disease:age + hypertension:age\n",
            "\n",
            "                             Df Deviance    AIC\n",
            "- gender                      1   1579.2 1607.2\n",
            "- Residence_type              1   1579.5 1607.5\n",
            "- work_type                   4   1585.6 1607.6\n",
            "- heart_disease:hypertension  1   1579.7 1607.7\n",
            "- ever_married                1   1579.8 1607.8\n",
            "- hypertension:age            1   1580.0 1608.0\n",
            "<none>                            1579.1 1609.1\n",
            "- heart_disease:age           1   1581.9 1609.9\n",
            "- avg_glucose_level           1   1590.0 1618.0\n",
            "\n",
            "Step:  AIC=1607.15\n",
            "stroke ~ avg_glucose_level + Residence_type + work_type + ever_married + \n",
            "    heart_disease + hypertension + age + heart_disease:hypertension + \n",
            "    heart_disease:age + hypertension:age\n",
            "\n",
            "                             Df Deviance    AIC\n",
            "- Residence_type              1   1579.6 1605.6\n",
            "- work_type                   4   1585.6 1605.6\n",
            "- heart_disease:hypertension  1   1579.8 1605.8\n",
            "- ever_married                1   1579.8 1605.8\n",
            "- hypertension:age            1   1580.0 1606.0\n",
            "<none>                            1579.2 1607.2\n",
            "- heart_disease:age           1   1582.0 1608.0\n",
            "- avg_glucose_level           1   1590.2 1616.2\n",
            "\n",
            "Step:  AIC=1605.56\n",
            "stroke ~ avg_glucose_level + work_type + ever_married + heart_disease + \n",
            "    hypertension + age + heart_disease:hypertension + heart_disease:age + \n",
            "    hypertension:age\n",
            "\n",
            "                             Df Deviance    AIC\n",
            "- work_type                   4   1586.1 1604.1\n",
            "- heart_disease:hypertension  1   1580.2 1604.2\n",
            "- ever_married                1   1580.3 1604.3\n",
            "- hypertension:age            1   1580.4 1604.4\n",
            "<none>                            1579.6 1605.6\n",
            "- heart_disease:age           1   1582.5 1606.5\n",
            "- avg_glucose_level           1   1590.7 1614.7\n",
            "\n",
            "Step:  AIC=1604.07\n",
            "stroke ~ avg_glucose_level + ever_married + heart_disease + hypertension + \n",
            "    age + heart_disease:hypertension + heart_disease:age + hypertension:age\n",
            "\n",
            "                             Df Deviance    AIC\n",
            "- heart_disease:hypertension  1   1586.5 1602.5\n",
            "- hypertension:age            1   1586.8 1602.8\n",
            "- ever_married                1   1587.0 1603.0\n",
            "<none>                            1586.1 1604.1\n",
            "- heart_disease:age           1   1588.9 1604.9\n",
            "- avg_glucose_level           1   1597.9 1613.9\n",
            "\n",
            "Step:  AIC=1602.54\n",
            "stroke ~ avg_glucose_level + ever_married + heart_disease + hypertension + \n",
            "    age + heart_disease:age + hypertension:age\n",
            "\n",
            "                    Df Deviance    AIC\n",
            "- ever_married       1   1587.4 1601.4\n",
            "- hypertension:age   1   1587.5 1601.5\n",
            "<none>                   1586.5 1602.5\n",
            "- heart_disease:age  1   1589.5 1603.5\n",
            "- avg_glucose_level  1   1598.4 1612.4\n",
            "\n",
            "Step:  AIC=1601.43\n",
            "stroke ~ avg_glucose_level + heart_disease + hypertension + age + \n",
            "    heart_disease:age + hypertension:age\n",
            "\n",
            "                    Df Deviance    AIC\n",
            "- hypertension:age   1   1588.3 1600.3\n",
            "<none>                   1587.4 1601.4\n",
            "- heart_disease:age  1   1590.3 1602.3\n",
            "- avg_glucose_level  1   1599.0 1611.0\n",
            "\n",
            "Step:  AIC=1600.26\n",
            "stroke ~ avg_glucose_level + heart_disease + hypertension + age + \n",
            "    heart_disease:age\n",
            "\n",
            "                    Df Deviance    AIC\n",
            "<none>                   1588.3 1600.3\n",
            "- heart_disease:age  1   1591.5 1601.5\n",
            "- hypertension       1   1593.5 1603.5\n",
            "- avg_glucose_level  1   1599.9 1609.9\n"
          ]
        },
        {
          "output_type": "display_data",
          "data": {
            "text/plain": [
              "\n",
              "Call:  glm(formula = stroke ~ avg_glucose_level + heart_disease + hypertension + \n",
              "    age + heart_disease:age, family = binomial(link = \"logit\"), \n",
              "    data = data)\n",
              "\n",
              "Coefficients:\n",
              "       (Intercept)   avg_glucose_level      heart_disease1       hypertension1  \n",
              "         -7.646978            0.004033            2.745935            0.378696  \n",
              "               age  heart_disease1:age  \n",
              "          0.071512           -0.033691  \n",
              "\n",
              "Degrees of Freedom: 5108 Total (i.e. Null);  5103 Residual\n",
              "Null Deviance:\t    1990 \n",
              "Residual Deviance: 1588 \tAIC: 1600"
            ]
          },
          "metadata": {}
        },
        {
          "output_type": "stream",
          "name": "stdout",
          "text": [
            "Start:  AIC=1618.36\n",
            "stroke ~ avg_glucose_level + Residence_type + work_type + ever_married + \n",
            "    bmi + heart_disease * hypertension + age * heart_disease + \n",
            "    age * hypertension + smoking_status * gender\n",
            "\n",
            "                             Df Deviance    AIC\n",
            "- smoking_status:gender       3   1576.4 1614.4\n",
            "- bmi                         1   1574.4 1616.4\n",
            "- Residence_type              1   1574.6 1616.6\n",
            "- heart_disease:hypertension  1   1575.0 1617.0\n",
            "- work_type                   4   1581.0 1617.0\n",
            "- hypertension:age            1   1575.1 1617.1\n",
            "- ever_married                1   1575.2 1617.2\n",
            "<none>                            1574.4 1618.4\n",
            "- heart_disease:age           1   1577.2 1619.2\n",
            "- avg_glucose_level           1   1584.5 1626.5\n",
            "\n",
            "Step:  AIC=1614.37\n",
            "stroke ~ avg_glucose_level + Residence_type + work_type + ever_married + \n",
            "    bmi + heart_disease + hypertension + age + smoking_status + \n",
            "    gender + heart_disease:hypertension + heart_disease:age + \n",
            "    hypertension:age\n",
            "\n",
            "                             Df Deviance    AIC\n",
            "- smoking_status              3   1579.1 1611.1\n",
            "- gender                      1   1576.4 1612.4\n",
            "- bmi                         1   1576.4 1612.4\n",
            "- Residence_type              1   1576.7 1612.7\n",
            "- work_type                   4   1582.9 1612.9\n",
            "- hypertension:age            1   1577.0 1613.0\n",
            "- heart_disease:hypertension  1   1577.1 1613.1\n",
            "- ever_married                1   1577.1 1613.1\n",
            "<none>                            1576.4 1614.4\n",
            "- heart_disease:age           1   1579.1 1615.1\n",
            "+ smoking_status:gender       3   1574.4 1618.4\n",
            "- avg_glucose_level           1   1586.8 1622.8\n",
            "\n",
            "Step:  AIC=1611.1\n",
            "stroke ~ avg_glucose_level + Residence_type + work_type + ever_married + \n",
            "    bmi + heart_disease + hypertension + age + gender + heart_disease:hypertension + \n",
            "    heart_disease:age + hypertension:age\n",
            "\n",
            "                             Df Deviance    AIC\n",
            "- bmi                         1   1579.1 1609.1\n",
            "- gender                      1   1579.1 1609.1\n",
            "- Residence_type              1   1579.5 1609.5\n",
            "- work_type                   4   1585.6 1609.6\n",
            "- heart_disease:hypertension  1   1579.7 1609.7\n",
            "- ever_married                1   1579.8 1609.8\n",
            "- hypertension:age            1   1579.9 1609.9\n",
            "<none>                            1579.1 1611.1\n",
            "- heart_disease:age           1   1581.9 1611.9\n",
            "+ smoking_status              3   1576.4 1614.4\n",
            "- avg_glucose_level           1   1589.5 1619.5\n",
            "\n",
            "Step:  AIC=1609.11\n",
            "stroke ~ avg_glucose_level + Residence_type + work_type + ever_married + \n",
            "    heart_disease + hypertension + age + gender + heart_disease:hypertension + \n",
            "    heart_disease:age + hypertension:age\n",
            "\n",
            "                             Df Deviance    AIC\n",
            "- gender                      1   1579.2 1607.2\n",
            "- Residence_type              1   1579.5 1607.5\n",
            "- work_type                   4   1585.6 1607.6\n",
            "- heart_disease:hypertension  1   1579.7 1607.7\n",
            "- ever_married                1   1579.8 1607.8\n",
            "- hypertension:age            1   1580.0 1608.0\n",
            "<none>                            1579.1 1609.1\n",
            "- heart_disease:age           1   1581.9 1609.9\n",
            "+ bmi                         1   1579.1 1611.1\n",
            "+ smoking_status              3   1576.4 1612.4\n",
            "- avg_glucose_level           1   1590.0 1618.0\n",
            "\n",
            "Step:  AIC=1607.15\n",
            "stroke ~ avg_glucose_level + Residence_type + work_type + ever_married + \n",
            "    heart_disease + hypertension + age + heart_disease:hypertension + \n",
            "    heart_disease:age + hypertension:age\n",
            "\n",
            "                             Df Deviance    AIC\n",
            "- Residence_type              1   1579.6 1605.6\n",
            "- work_type                   4   1585.6 1605.6\n",
            "- heart_disease:hypertension  1   1579.8 1605.8\n",
            "- ever_married                1   1579.8 1605.8\n",
            "- hypertension:age            1   1580.0 1606.0\n",
            "<none>                            1579.2 1607.2\n",
            "- heart_disease:age           1   1582.0 1608.0\n",
            "+ gender                      1   1579.1 1609.1\n",
            "+ bmi                         1   1579.1 1609.1\n",
            "+ smoking_status              3   1576.4 1610.4\n",
            "- avg_glucose_level           1   1590.2 1616.2\n",
            "\n",
            "Step:  AIC=1605.56\n",
            "stroke ~ avg_glucose_level + work_type + ever_married + heart_disease + \n",
            "    hypertension + age + heart_disease:hypertension + heart_disease:age + \n",
            "    hypertension:age\n",
            "\n",
            "                             Df Deviance    AIC\n",
            "- work_type                   4   1586.1 1604.1\n",
            "- heart_disease:hypertension  1   1580.2 1604.2\n",
            "- ever_married                1   1580.3 1604.3\n",
            "- hypertension:age            1   1580.4 1604.4\n",
            "<none>                            1579.6 1605.6\n",
            "- heart_disease:age           1   1582.5 1606.5\n",
            "+ Residence_type              1   1579.2 1607.2\n",
            "+ gender                      1   1579.5 1607.5\n",
            "+ bmi                         1   1579.5 1607.5\n",
            "+ smoking_status              3   1576.7 1608.7\n",
            "- avg_glucose_level           1   1590.7 1614.7\n",
            "\n",
            "Step:  AIC=1604.07\n",
            "stroke ~ avg_glucose_level + ever_married + heart_disease + hypertension + \n",
            "    age + heart_disease:hypertension + heart_disease:age + hypertension:age\n",
            "\n",
            "                             Df Deviance    AIC\n",
            "- heart_disease:hypertension  1   1586.5 1602.5\n",
            "- hypertension:age            1   1586.8 1602.8\n",
            "- ever_married                1   1587.0 1603.0\n",
            "<none>                            1586.1 1604.1\n",
            "- heart_disease:age           1   1588.9 1604.9\n",
            "+ work_type                   4   1579.6 1605.6\n",
            "+ Residence_type              1   1585.6 1605.6\n",
            "+ gender                      1   1586.0 1606.0\n",
            "+ bmi                         1   1586.1 1606.1\n",
            "+ smoking_status              3   1583.2 1607.2\n",
            "- avg_glucose_level           1   1597.9 1613.9\n",
            "\n",
            "Step:  AIC=1602.54\n",
            "stroke ~ avg_glucose_level + ever_married + heart_disease + hypertension + \n",
            "    age + heart_disease:age + hypertension:age\n",
            "\n",
            "                             Df Deviance    AIC\n",
            "- ever_married                1   1587.4 1601.4\n",
            "- hypertension:age            1   1587.5 1601.5\n",
            "<none>                            1586.5 1602.5\n",
            "- heart_disease:age           1   1589.5 1603.5\n",
            "+ heart_disease:hypertension  1   1586.1 1604.1\n",
            "+ Residence_type              1   1586.1 1604.1\n",
            "+ work_type                   4   1580.2 1604.2\n",
            "+ gender                      1   1586.5 1604.5\n",
            "+ bmi                         1   1586.5 1604.5\n",
            "+ smoking_status              3   1583.8 1605.8\n",
            "- avg_glucose_level           1   1598.4 1612.4\n",
            "\n",
            "Step:  AIC=1601.43\n",
            "stroke ~ avg_glucose_level + heart_disease + hypertension + age + \n",
            "    heart_disease:age + hypertension:age\n",
            "\n",
            "                             Df Deviance    AIC\n",
            "- hypertension:age            1   1588.3 1600.3\n",
            "<none>                            1587.4 1601.4\n",
            "- heart_disease:age           1   1590.3 1602.3\n",
            "+ ever_married                1   1586.5 1602.5\n",
            "+ work_type                   4   1580.9 1602.9\n",
            "+ Residence_type              1   1586.9 1602.9\n",
            "+ heart_disease:hypertension  1   1587.0 1603.0\n",
            "+ gender                      1   1587.4 1603.4\n",
            "+ bmi                         1   1587.4 1603.4\n",
            "+ smoking_status              3   1584.8 1604.8\n",
            "- avg_glucose_level           1   1599.0 1611.0\n",
            "\n",
            "Step:  AIC=1600.26\n",
            "stroke ~ avg_glucose_level + heart_disease + hypertension + age + \n",
            "    heart_disease:age\n",
            "\n",
            "                             Df Deviance    AIC\n",
            "<none>                            1588.3 1600.3\n",
            "+ hypertension:age            1   1587.4 1601.4\n",
            "- heart_disease:age           1   1591.5 1601.5\n",
            "+ ever_married                1   1587.5 1601.5\n",
            "+ heart_disease:hypertension  1   1587.7 1601.7\n",
            "+ Residence_type              1   1587.8 1601.8\n",
            "+ work_type                   4   1581.8 1601.8\n",
            "+ gender                      1   1588.2 1602.2\n",
            "+ bmi                         1   1588.3 1602.3\n",
            "+ smoking_status              3   1585.5 1603.5\n",
            "- hypertension                1   1593.5 1603.5\n",
            "- avg_glucose_level           1   1599.9 1609.9\n"
          ]
        },
        {
          "output_type": "display_data",
          "data": {
            "text/plain": [
              "\n",
              "Call:  glm(formula = stroke ~ avg_glucose_level + heart_disease + hypertension + \n",
              "    age + heart_disease:age, family = binomial(link = \"logit\"), \n",
              "    data = data)\n",
              "\n",
              "Coefficients:\n",
              "       (Intercept)   avg_glucose_level      heart_disease1       hypertension1  \n",
              "         -7.646978            0.004033            2.745935            0.378696  \n",
              "               age  heart_disease1:age  \n",
              "          0.071512           -0.033691  \n",
              "\n",
              "Degrees of Freedom: 5108 Total (i.e. Null);  5103 Residual\n",
              "Null Deviance:\t    1990 \n",
              "Residual Deviance: 1588 \tAIC: 1600"
            ]
          },
          "metadata": {}
        },
        {
          "output_type": "stream",
          "name": "stdout",
          "text": [
            "Start:  AIC=1992.27\n",
            "stroke ~ 1\n",
            "\n",
            "                    Df Deviance    AIC\n",
            "+ age                1   1616.2 1620.2\n",
            "+ avg_glucose_level  1   1917.9 1921.9\n",
            "+ ever_married       1   1919.3 1923.3\n",
            "+ work_type          4   1920.5 1930.5\n",
            "+ hypertension       1   1929.2 1933.2\n",
            "+ heart_disease      1   1930.0 1934.0\n",
            "+ smoking_status     3   1962.1 1970.1\n",
            "+ bmi                1   1983.0 1987.0\n",
            "<none>                   1990.3 1992.3\n",
            "+ Residence_type     1   1989.1 1993.1\n",
            "+ gender             1   1989.8 1993.8\n",
            "\n",
            "Step:  AIC=1620.25\n",
            "stroke ~ age\n",
            "\n",
            "                    Df Deviance    AIC\n",
            "+ avg_glucose_level  1   1599.8 1605.8\n",
            "+ hypertension       1   1608.2 1614.2\n",
            "+ heart_disease      1   1611.3 1617.3\n",
            "<none>                   1616.2 1620.2\n",
            "+ work_type          4   1609.1 1621.1\n",
            "+ bmi                1   1615.1 1621.1\n",
            "+ gender             1   1615.5 1621.5\n",
            "+ ever_married       1   1615.7 1621.7\n",
            "+ Residence_type     1   1615.8 1621.8\n",
            "+ smoking_status     3   1613.0 1623.0\n",
            "\n",
            "Step:  AIC=1605.79\n",
            "stroke ~ age + avg_glucose_level\n",
            "\n",
            "                 Df Deviance    AIC\n",
            "+ hypertension    1   1594.4 1602.4\n",
            "+ heart_disease   1   1596.7 1604.7\n",
            "<none>                1599.8 1605.8\n",
            "+ ever_married    1   1598.9 1606.9\n",
            "+ Residence_type  1   1599.4 1607.4\n",
            "+ work_type       4   1593.4 1607.4\n",
            "+ gender          1   1599.6 1607.6\n",
            "+ bmi             1   1599.7 1607.7\n",
            "+ smoking_status  3   1596.8 1608.8\n",
            "\n",
            "Step:  AIC=1602.41\n",
            "stroke ~ age + avg_glucose_level + hypertension\n",
            "\n",
            "                   Df Deviance    AIC\n",
            "+ heart_disease     1   1591.5 1601.5\n",
            "<none>                  1594.4 1602.4\n",
            "+ hypertension:age  1   1593.3 1603.3\n",
            "+ ever_married      1   1593.6 1603.6\n",
            "+ work_type         4   1587.8 1603.8\n",
            "+ Residence_type    1   1593.9 1603.9\n",
            "+ gender            1   1594.2 1604.2\n",
            "+ bmi               1   1594.4 1604.4\n",
            "+ smoking_status    3   1591.0 1605.0\n",
            "\n",
            "Step:  AIC=1601.45\n",
            "stroke ~ age + avg_glucose_level + hypertension + heart_disease\n",
            "\n",
            "                             Df Deviance    AIC\n",
            "+ heart_disease:age           1   1588.3 1600.3\n",
            "<none>                            1591.5 1601.5\n",
            "+ hypertension:age            1   1590.3 1602.3\n",
            "+ heart_disease:hypertension  1   1590.6 1602.6\n",
            "+ ever_married                1   1590.8 1602.8\n",
            "+ Residence_type              1   1590.9 1602.9\n",
            "+ work_type                   4   1585.1 1603.1\n",
            "+ gender                      1   1591.3 1603.3\n",
            "+ bmi                         1   1591.4 1603.4\n",
            "+ smoking_status              3   1588.6 1604.6\n",
            "\n",
            "Step:  AIC=1600.26\n",
            "stroke ~ age + avg_glucose_level + hypertension + heart_disease + \n",
            "    age:heart_disease\n",
            "\n",
            "                             Df Deviance    AIC\n",
            "<none>                            1588.3 1600.3\n",
            "+ hypertension:age            1   1587.4 1601.4\n",
            "+ ever_married                1   1587.5 1601.5\n",
            "+ heart_disease:hypertension  1   1587.7 1601.7\n",
            "+ Residence_type              1   1587.8 1601.8\n",
            "+ work_type                   4   1581.8 1601.8\n",
            "+ gender                      1   1588.2 1602.2\n",
            "+ bmi                         1   1588.3 1602.3\n",
            "+ smoking_status              3   1585.5 1603.5\n"
          ]
        },
        {
          "output_type": "display_data",
          "data": {
            "text/plain": [
              "\n",
              "Call:  glm(formula = stroke ~ age + avg_glucose_level + hypertension + \n",
              "    heart_disease + age:heart_disease, family = binomial(link = \"logit\"), \n",
              "    data = data)\n",
              "\n",
              "Coefficients:\n",
              "       (Intercept)                 age   avg_glucose_level       hypertension1  \n",
              "         -7.646978            0.071512            0.004033            0.378696  \n",
              "    heart_disease1  age:heart_disease1  \n",
              "          2.745935           -0.033691  \n",
              "\n",
              "Degrees of Freedom: 5108 Total (i.e. Null);  5103 Residual\n",
              "Null Deviance:\t    1990 \n",
              "Residual Deviance: 1588 \tAIC: 1600"
            ]
          },
          "metadata": {}
        }
      ]
    },
    {
      "cell_type": "code",
      "source": [
        "# Pakai model hasil forward karena AIC = 1600 (ASUMSI MODEL AWAL LANGSUNG DENGAN INTERAKSI)\n",
        "glm.fit <- glm(stroke ~ avg_glucose_level + hypertension + age*heart_disease, family = binomial(link = \"logit\"), data = data)\n",
        "summary(glm.fit)\n",
        "vif(glm.fit)\n",
        "\n",
        "\n",
        "glm.fit2 <- glm(stroke ~ avg_glucose_level + hypertension + age + heart_disease, family = binomial(link = \"logit\"), data = data)\n",
        "summary(glm.fit2)\n",
        "#vif(glm.fit2)\n",
        "\n",
        "#LRT perbandingan model\n",
        "anova(glm.fit2,glm.fit,  test = \"Chisq\")\n",
        "\n",
        "#glm.fit3 <- glm(stroke ~ avg_glucose_level + hypertension + age , family = binomial(link = \"logit\"), data = data)\n",
        "#summary(glm.fit3)\n",
        "#vif(glm.fit3)\n",
        "\n",
        "#LRT perbandingan model\n",
        "#anova(glm.fit3,glm.fit,  test = \"Chisq\")\n",
        "\n",
        "\n",
        "#LRT perbandingan model\n",
        "#anova(glm.fit3,glm.fit2,  test = \"Chisq\")\n",
        "\n",
        "#lrt\n",
        "anova(glm.fit,glm.logit, test = \"Chisq\")"
      ],
      "metadata": {
        "id": "KPCRWSKBUDPN",
        "colab": {
          "base_uri": "https://localhost:8080/",
          "height": 1000
        },
        "outputId": "fe8b0689-8635-418b-82e0-ff9df8f66e31"
      },
      "execution_count": null,
      "outputs": [
        {
          "output_type": "display_data",
          "data": {
            "text/plain": [
              "\n",
              "Call:\n",
              "glm(formula = stroke ~ avg_glucose_level + hypertension + age * \n",
              "    heart_disease, family = binomial(link = \"logit\"), data = data)\n",
              "\n",
              "Coefficients:\n",
              "                    Estimate Std. Error z value Pr(>|z|)    \n",
              "(Intercept)        -7.646978   0.376319 -20.320  < 2e-16 ***\n",
              "avg_glucose_level   0.004033   0.001161   3.474 0.000513 ***\n",
              "hypertension1       0.378696   0.162217   2.335 0.019569 *  \n",
              "age                 0.071512   0.005430  13.170  < 2e-16 ***\n",
              "heart_disease1      2.745935   1.293066   2.124 0.033705 *  \n",
              "age:heart_disease1 -0.033691   0.018075  -1.864 0.062329 .  \n",
              "---\n",
              "Signif. codes:  0 ‘***’ 0.001 ‘**’ 0.01 ‘*’ 0.05 ‘.’ 0.1 ‘ ’ 1\n",
              "\n",
              "(Dispersion parameter for binomial family taken to be 1)\n",
              "\n",
              "    Null deviance: 1990.3  on 5108  degrees of freedom\n",
              "Residual deviance: 1588.3  on 5103  degrees of freedom\n",
              "AIC: 1600.3\n",
              "\n",
              "Number of Fisher Scoring iterations: 7\n"
            ]
          },
          "metadata": {}
        },
        {
          "output_type": "stream",
          "name": "stderr",
          "text": [
            "there are higher-order terms (interactions) in this model\n",
            "consider setting type = 'predictor'; see ?vif\n",
            "\n"
          ]
        },
        {
          "output_type": "display_data",
          "data": {
            "text/html": [
              "<style>\n",
              ".dl-inline {width: auto; margin:0; padding: 0}\n",
              ".dl-inline>dt, .dl-inline>dd {float: none; width: auto; display: inline-block}\n",
              ".dl-inline>dt::after {content: \":\\0020\"; padding-right: .5ex}\n",
              ".dl-inline>dt:not(:first-of-type) {padding-left: .5ex}\n",
              "</style><dl class=dl-inline><dt>avg_glucose_level</dt><dd>1.05245399404506</dd><dt>hypertension</dt><dd>1.04355647122472</dd><dt>age</dt><dd>1.15565349917687</dd><dt>heart_disease</dt><dd>51.7774908977235</dd><dt>age:heart_disease</dt><dd>52.4699893195794</dd></dl>\n"
            ],
            "text/markdown": "avg_glucose_level\n:   1.05245399404506hypertension\n:   1.04355647122472age\n:   1.15565349917687heart_disease\n:   51.7774908977235age:heart_disease\n:   52.4699893195794\n\n",
            "text/latex": "\\begin{description*}\n\\item[avg\\textbackslash{}\\_glucose\\textbackslash{}\\_level] 1.05245399404506\n\\item[hypertension] 1.04355647122472\n\\item[age] 1.15565349917687\n\\item[heart\\textbackslash{}\\_disease] 51.7774908977235\n\\item[age:heart\\textbackslash{}\\_disease] 52.4699893195794\n\\end{description*}\n",
            "text/plain": [
              "avg_glucose_level      hypertension               age     heart_disease \n",
              "         1.052454          1.043556          1.155653         51.777491 \n",
              "age:heart_disease \n",
              "        52.469989 "
            ]
          },
          "metadata": {}
        },
        {
          "output_type": "display_data",
          "data": {
            "text/plain": [
              "\n",
              "Call:\n",
              "glm(formula = stroke ~ avg_glucose_level + hypertension + age + \n",
              "    heart_disease, family = binomial(link = \"logit\"), data = data)\n",
              "\n",
              "Coefficients:\n",
              "                   Estimate Std. Error z value Pr(>|z|)    \n",
              "(Intercept)       -7.488996   0.357890 -20.925  < 2e-16 ***\n",
              "avg_glucose_level  0.004121   0.001162   3.547  0.00039 ***\n",
              "hypertension1      0.381396   0.162599   2.346  0.01899 *  \n",
              "age                0.068920   0.005140  13.408  < 2e-16 ***\n",
              "heart_disease1     0.329972   0.187724   1.758  0.07879 .  \n",
              "---\n",
              "Signif. codes:  0 ‘***’ 0.001 ‘**’ 0.01 ‘*’ 0.05 ‘.’ 0.1 ‘ ’ 1\n",
              "\n",
              "(Dispersion parameter for binomial family taken to be 1)\n",
              "\n",
              "    Null deviance: 1990.3  on 5108  degrees of freedom\n",
              "Residual deviance: 1591.4  on 5104  degrees of freedom\n",
              "AIC: 1601.4\n",
              "\n",
              "Number of Fisher Scoring iterations: 7\n"
            ]
          },
          "metadata": {}
        },
        {
          "output_type": "display_data",
          "data": {
            "text/html": [
              "<table class=\"dataframe\">\n",
              "<caption>A anova: 2 × 5</caption>\n",
              "<thead>\n",
              "\t<tr><th></th><th scope=col>Resid. Df</th><th scope=col>Resid. Dev</th><th scope=col>Df</th><th scope=col>Deviance</th><th scope=col>Pr(&gt;Chi)</th></tr>\n",
              "\t<tr><th></th><th scope=col>&lt;dbl&gt;</th><th scope=col>&lt;dbl&gt;</th><th scope=col>&lt;dbl&gt;</th><th scope=col>&lt;dbl&gt;</th><th scope=col>&lt;dbl&gt;</th></tr>\n",
              "</thead>\n",
              "<tbody>\n",
              "\t<tr><th scope=row>1</th><td>5104</td><td>1591.446</td><td>NA</td><td>      NA</td><td>        NA</td></tr>\n",
              "\t<tr><th scope=row>2</th><td>5103</td><td>1588.262</td><td> 1</td><td>3.183843</td><td>0.07436963</td></tr>\n",
              "</tbody>\n",
              "</table>\n"
            ],
            "text/markdown": "\nA anova: 2 × 5\n\n| <!--/--> | Resid. Df &lt;dbl&gt; | Resid. Dev &lt;dbl&gt; | Df &lt;dbl&gt; | Deviance &lt;dbl&gt; | Pr(&gt;Chi) &lt;dbl&gt; |\n|---|---|---|---|---|---|\n| 1 | 5104 | 1591.446 | NA |       NA |         NA |\n| 2 | 5103 | 1588.262 |  1 | 3.183843 | 0.07436963 |\n\n",
            "text/latex": "A anova: 2 × 5\n\\begin{tabular}{r|lllll}\n  & Resid. Df & Resid. Dev & Df & Deviance & Pr(>Chi)\\\\\n  & <dbl> & <dbl> & <dbl> & <dbl> & <dbl>\\\\\n\\hline\n\t1 & 5104 & 1591.446 & NA &       NA &         NA\\\\\n\t2 & 5103 & 1588.262 &  1 & 3.183843 & 0.07436963\\\\\n\\end{tabular}\n",
            "text/plain": [
              "  Resid. Df Resid. Dev Df Deviance Pr(>Chi)  \n",
              "1 5104      1591.446   NA       NA         NA\n",
              "2 5103      1588.262    1 3.183843 0.07436963"
            ]
          },
          "metadata": {}
        },
        {
          "output_type": "display_data",
          "data": {
            "text/html": [
              "<table class=\"dataframe\">\n",
              "<caption>A anova: 2 × 5</caption>\n",
              "<thead>\n",
              "\t<tr><th></th><th scope=col>Resid. Df</th><th scope=col>Resid. Dev</th><th scope=col>Df</th><th scope=col>Deviance</th><th scope=col>Pr(&gt;Chi)</th></tr>\n",
              "\t<tr><th></th><th scope=col>&lt;dbl&gt;</th><th scope=col>&lt;dbl&gt;</th><th scope=col>&lt;dbl&gt;</th><th scope=col>&lt;dbl&gt;</th><th scope=col>&lt;dbl&gt;</th></tr>\n",
              "</thead>\n",
              "<tbody>\n",
              "\t<tr><th scope=row>1</th><td>5103</td><td>1588.262</td><td>NA</td><td>      NA</td><td>      NA</td></tr>\n",
              "\t<tr><th scope=row>2</th><td>5087</td><td>1574.363</td><td>16</td><td>13.89928</td><td>0.606217</td></tr>\n",
              "</tbody>\n",
              "</table>\n"
            ],
            "text/markdown": "\nA anova: 2 × 5\n\n| <!--/--> | Resid. Df &lt;dbl&gt; | Resid. Dev &lt;dbl&gt; | Df &lt;dbl&gt; | Deviance &lt;dbl&gt; | Pr(&gt;Chi) &lt;dbl&gt; |\n|---|---|---|---|---|---|\n| 1 | 5103 | 1588.262 | NA |       NA |       NA |\n| 2 | 5087 | 1574.363 | 16 | 13.89928 | 0.606217 |\n\n",
            "text/latex": "A anova: 2 × 5\n\\begin{tabular}{r|lllll}\n  & Resid. Df & Resid. Dev & Df & Deviance & Pr(>Chi)\\\\\n  & <dbl> & <dbl> & <dbl> & <dbl> & <dbl>\\\\\n\\hline\n\t1 & 5103 & 1588.262 & NA &       NA &       NA\\\\\n\t2 & 5087 & 1574.363 & 16 & 13.89928 & 0.606217\\\\\n\\end{tabular}\n",
            "text/plain": [
              "  Resid. Df Resid. Dev Df Deviance Pr(>Chi)\n",
              "1 5103      1588.262   NA       NA       NA\n",
              "2 5087      1574.363   16 13.89928 0.606217"
            ]
          },
          "metadata": {}
        }
      ]
    },
    {
      "cell_type": "code",
      "source": [
        "glm.fit2 <- glm(stroke ~ avg_glucose_level + hypertension + age + heart_disease, family = binomial(link = \"logit\"), data = data)\n",
        "summary(glm.fit2)\n",
        "#vif(glm.fit2)\n",
        "\n",
        "#LRT perbandingan model\n",
        "anova(glm.fit2,glm.fit,  test = \"Chisq\")"
      ],
      "metadata": {
        "colab": {
          "base_uri": "https://localhost:8080/",
          "height": 554
        },
        "id": "0_08zZxO_kFT",
        "outputId": "4117ae67-dfcc-459f-b306-f731e19010f1"
      },
      "execution_count": null,
      "outputs": [
        {
          "output_type": "display_data",
          "data": {
            "text/plain": [
              "\n",
              "Call:\n",
              "glm(formula = stroke ~ avg_glucose_level + hypertension + age + \n",
              "    heart_disease, family = binomial(link = \"logit\"), data = data)\n",
              "\n",
              "Coefficients:\n",
              "                   Estimate Std. Error z value Pr(>|z|)    \n",
              "(Intercept)       -7.488996   0.357890 -20.925  < 2e-16 ***\n",
              "avg_glucose_level  0.004121   0.001162   3.547  0.00039 ***\n",
              "hypertension1      0.381396   0.162599   2.346  0.01899 *  \n",
              "age                0.068920   0.005140  13.408  < 2e-16 ***\n",
              "heart_disease1     0.329972   0.187724   1.758  0.07879 .  \n",
              "---\n",
              "Signif. codes:  0 ‘***’ 0.001 ‘**’ 0.01 ‘*’ 0.05 ‘.’ 0.1 ‘ ’ 1\n",
              "\n",
              "(Dispersion parameter for binomial family taken to be 1)\n",
              "\n",
              "    Null deviance: 1990.3  on 5108  degrees of freedom\n",
              "Residual deviance: 1591.4  on 5104  degrees of freedom\n",
              "AIC: 1601.4\n",
              "\n",
              "Number of Fisher Scoring iterations: 7\n"
            ]
          },
          "metadata": {}
        },
        {
          "output_type": "display_data",
          "data": {
            "text/html": [
              "<table class=\"dataframe\">\n",
              "<caption>A anova: 2 × 5</caption>\n",
              "<thead>\n",
              "\t<tr><th></th><th scope=col>Resid. Df</th><th scope=col>Resid. Dev</th><th scope=col>Df</th><th scope=col>Deviance</th><th scope=col>Pr(&gt;Chi)</th></tr>\n",
              "\t<tr><th></th><th scope=col>&lt;dbl&gt;</th><th scope=col>&lt;dbl&gt;</th><th scope=col>&lt;dbl&gt;</th><th scope=col>&lt;dbl&gt;</th><th scope=col>&lt;dbl&gt;</th></tr>\n",
              "</thead>\n",
              "<tbody>\n",
              "\t<tr><th scope=row>1</th><td>5104</td><td>1591.446</td><td>NA</td><td>      NA</td><td>        NA</td></tr>\n",
              "\t<tr><th scope=row>2</th><td>5103</td><td>1588.262</td><td> 1</td><td>3.183843</td><td>0.07436963</td></tr>\n",
              "</tbody>\n",
              "</table>\n"
            ],
            "text/markdown": "\nA anova: 2 × 5\n\n| <!--/--> | Resid. Df &lt;dbl&gt; | Resid. Dev &lt;dbl&gt; | Df &lt;dbl&gt; | Deviance &lt;dbl&gt; | Pr(&gt;Chi) &lt;dbl&gt; |\n|---|---|---|---|---|---|\n| 1 | 5104 | 1591.446 | NA |       NA |         NA |\n| 2 | 5103 | 1588.262 |  1 | 3.183843 | 0.07436963 |\n\n",
            "text/latex": "A anova: 2 × 5\n\\begin{tabular}{r|lllll}\n  & Resid. Df & Resid. Dev & Df & Deviance & Pr(>Chi)\\\\\n  & <dbl> & <dbl> & <dbl> & <dbl> & <dbl>\\\\\n\\hline\n\t1 & 5104 & 1591.446 & NA &       NA &         NA\\\\\n\t2 & 5103 & 1588.262 &  1 & 3.183843 & 0.07436963\\\\\n\\end{tabular}\n",
            "text/plain": [
              "  Resid. Df Resid. Dev Df Deviance Pr(>Chi)  \n",
              "1 5104      1591.446   NA       NA         NA\n",
              "2 5103      1588.262    1 3.183843 0.07436963"
            ]
          },
          "metadata": {}
        }
      ]
    },
    {
      "cell_type": "markdown",
      "source": [
        "# MODEL CHECKING"
      ],
      "metadata": {
        "id": "K_AzDtDGUHlV"
      }
    },
    {
      "cell_type": "markdown",
      "source": [
        "## Uji hosmer-lemeshow"
      ],
      "metadata": {
        "id": "Pvuh2Xo9US3i"
      }
    },
    {
      "cell_type": "code",
      "source": [
        "# uji hosmer-lemeshow (model fit jika p-value besar)\n",
        "install.packages(\"ResourceSelection\")\n"
      ],
      "metadata": {
        "id": "2Aje0rXdUK4m",
        "colab": {
          "base_uri": "https://localhost:8080/"
        },
        "outputId": "dd47aa58-9494-4859-9128-109489579b74"
      },
      "execution_count": null,
      "outputs": [
        {
          "output_type": "stream",
          "name": "stderr",
          "text": [
            "Installing package into ‘/usr/local/lib/R/site-library’\n",
            "(as ‘lib’ is unspecified)\n",
            "\n",
            "also installing the dependency ‘pbapply’\n",
            "\n",
            "\n"
          ]
        }
      ]
    },
    {
      "cell_type": "code",
      "source": [
        "library(ResourceSelection)\n",
        "predicted_probabilities <- predict(glm.fit, type = \"response\")\n",
        "hoslem.test(data$stroke, predicted_probabilities, g = 10)\n"
      ],
      "metadata": {
        "id": "1CJbLJldUPPW",
        "colab": {
          "base_uri": "https://localhost:8080/",
          "height": 142
        },
        "outputId": "d6f52448-6bb1-41a6-a3f9-b777a3082684"
      },
      "execution_count": null,
      "outputs": [
        {
          "output_type": "stream",
          "name": "stderr",
          "text": [
            "ResourceSelection 0.3-6 \t 2023-06-27\n",
            "\n"
          ]
        },
        {
          "output_type": "display_data",
          "data": {
            "text/plain": [
              "\n",
              "\tHosmer and Lemeshow goodness of fit (GOF) test\n",
              "\n",
              "data:  data$stroke, predicted_probabilities\n",
              "X-squared = 8.1078, df = 8, p-value = 0.423\n"
            ]
          },
          "metadata": {}
        }
      ]
    },
    {
      "cell_type": "markdown",
      "source": [
        "## classification table ( sehat = 4861 , stroke = 249)"
      ],
      "metadata": {
        "id": "wyrVm3pwVTm2"
      }
    },
    {
      "cell_type": "code",
      "source": [
        "install.packages(\"gmodels\")"
      ],
      "metadata": {
        "id": "MS39vJWjVgvH",
        "colab": {
          "base_uri": "https://localhost:8080/"
        },
        "outputId": "1ac3ef99-dd09-485b-d67d-d72f24e8af19"
      },
      "execution_count": null,
      "outputs": [
        {
          "output_type": "stream",
          "name": "stderr",
          "text": [
            "Installing package into ‘/usr/local/lib/R/site-library’\n",
            "(as ‘lib’ is unspecified)\n",
            "\n",
            "also installing the dependencies ‘gtools’, ‘gdata’\n",
            "\n",
            "\n"
          ]
        }
      ]
    },
    {
      "cell_type": "code",
      "source": [
        "# 1. Hasilkan prediksi probabilitas dari model\n",
        "pred_prob <- predict(glm.fit, newdata = data, type = \"response\")\n",
        "\n",
        "# 2. Konversi probabilitas ke kategori berdasarkan cutoff\n",
        "cutoff <- 0.01  # Atur cutoff (misalnya, 0.5)\n",
        "pred_class <- ifelse(pred_prob >= cutoff, 1, 0)\n",
        "\n",
        "# 3. Pastikan pred_class adalah faktor dengan level yang sesuai\n",
        "pred_class <- factor(pred_class, levels = c(0, 1))\n",
        "\n",
        "# 4. Pastikan target aktual (data$stroke) juga faktor dengan level yang sama\n",
        "data$stroke <- factor(data$stroke, levels = c(0, 1))\n",
        "\n",
        "# 5. Buat confusion matrix\n",
        "confusion_matrix <- table(Predicted = pred_class, Actual = data$stroke)\n",
        "print(confusion_matrix)\n",
        "\n",
        "# 6. Hitung metrik evaluasi jika confusion matrix valid\n",
        "if (all(dim(confusion_matrix) == c(2, 2))) {\n",
        "  TP <- confusion_matrix[2, 2] # True Positives\n",
        "  TN <- confusion_matrix[1, 1] # True Negatives\n",
        "  FP <- confusion_matrix[2, 1] # False Positives\n",
        "  FN <- confusion_matrix[1, 2] # False Negatives\n",
        "\n",
        "  accuracy <- (TP + TN) / sum(confusion_matrix)\n",
        "  error <- (FP + FN) / sum(confusion_matrix)\n",
        "  sensitivity <- ifelse((TP + FN) > 0, TP / (TP + FN), NA) # True Positive Rate\n",
        "  specificity <- ifelse((TN + FP) > 0, TN / (TN + FP), NA) # True Negative Rate\n",
        "\n",
        "  cat(\"Accuracy:\", accuracy, \"\\n\")\n",
        "  cat(\"Error:\", error, \"\\n\")\n",
        "  cat(\"Sensitivity:\", sensitivity, \"\\n\")\n",
        "  cat(\"Specificity:\", specificity, \"\\n\")\n",
        "} else {\n",
        "  cat(\"Confusion matrix tidak lengkap. Periksa distribusi data prediksi atau data aktual.\\n\")\n",
        "}\n"
      ],
      "metadata": {
        "colab": {
          "base_uri": "https://localhost:8080/"
        },
        "id": "Fx8IMAgUVCAl",
        "outputId": "13c0f768-fcdd-4296-8ff9-5a3ef0b79e11"
      },
      "execution_count": null,
      "outputs": [
        {
          "output_type": "stream",
          "name": "stdout",
          "text": [
            "         Actual\n",
            "Predicted    0    1\n",
            "        0 1985    4\n",
            "        1 2875  245\n",
            "Accuracy: 0.4364846 \n",
            "Error: 0.5635154 \n",
            "Sensitivity: 0.9839357 \n",
            "Specificity: 0.4084362 \n"
          ]
        }
      ]
    },
    {
      "cell_type": "markdown",
      "source": [
        "## Kurva ROC"
      ],
      "metadata": {
        "id": "fHgkpJuQU21N"
      }
    },
    {
      "cell_type": "code",
      "source": [
        "#kurva ROC\n",
        "install.packages(\"pROC\")\n",
        "library(pROC)"
      ],
      "metadata": {
        "id": "_MuFU0XHU8hs",
        "colab": {
          "base_uri": "https://localhost:8080/"
        },
        "outputId": "febee42f-775b-4425-e179-9d9331c5ab06"
      },
      "execution_count": null,
      "outputs": [
        {
          "output_type": "stream",
          "name": "stderr",
          "text": [
            "Installing package into ‘/usr/local/lib/R/site-library’\n",
            "(as ‘lib’ is unspecified)\n",
            "\n",
            "also installing the dependency ‘plyr’\n",
            "\n",
            "\n",
            "Type 'citation(\"pROC\")' for a citation.\n",
            "\n",
            "\n",
            "Attaching package: ‘pROC’\n",
            "\n",
            "\n",
            "The following objects are masked from ‘package:stats’:\n",
            "\n",
            "    cov, smooth, var\n",
            "\n",
            "\n"
          ]
        }
      ]
    },
    {
      "cell_type": "code",
      "source": [
        "predicted_probabilities_roc <- predict(glm.fit, type = \"response\")\n",
        "roc_curve <- roc(data$stroke,predicted_probabilities_roc)\n",
        "\n",
        "# Plot kurva ROC\n",
        "plot(roc_curve, col = \"blue\", lwd = 2, main = \"ROC Curve\")\n",
        "abline(a = 0, b = 1, lty = 2, col = \"red\") # Garis diagonal (baseline)\n",
        "\n",
        "# AUC\n",
        "auc_value <- auc(roc_curve)\n",
        "print(paste(\"AUC:\", auc_value))"
      ],
      "metadata": {
        "id": "HMG5r6oxU-oi",
        "colab": {
          "base_uri": "https://localhost:8080/",
          "height": 526
        },
        "outputId": "b5073f8f-808e-4e07-d1c0-ac6c8e6779df"
      },
      "execution_count": null,
      "outputs": [
        {
          "output_type": "stream",
          "name": "stderr",
          "text": [
            "Setting levels: control = 0, case = 1\n",
            "\n",
            "Setting direction: controls < cases\n",
            "\n"
          ]
        },
        {
          "output_type": "stream",
          "name": "stdout",
          "text": [
            "[1] \"AUC: 0.844548564628886\"\n"
          ]
        },
        {
          "output_type": "display_data",
          "data": {
            "text/plain": [
              "Plot with title “ROC Curve”"
            ],
            "image/png": "[encoded data removed]"
          },
          "metadata": {
            "image/png": {
              "width": 420,
              "height": 420
            }
          }
        }
      ]
    },
    {
      "cell_type": "code",
      "source": [
        "install.packages(\"dplyr\")"
      ],
      "metadata": {
        "colab": {
          "base_uri": "https://localhost:8080/"
        },
        "id": "4yQRAmloKQbO",
        "outputId": "237a1d26-ac61-41f3-bdad-7bdd3ecf05d8"
      },
      "execution_count": null,
      "outputs": [
        {
          "output_type": "stream",
          "name": "stderr",
          "text": [
            "Installing package into ‘/usr/local/lib/R/site-library’\n",
            "(as ‘lib’ is unspecified)\n",
            "\n"
          ]
        }
      ]
    },
    {
      "cell_type": "code",
      "source": [
        "\n",
        "install.packages(\"dplyr\")\n",
        "\n",
        "library(pROC)\n",
        "library(dplyr)\n",
        "\n",
        "# Hitung ROC Curve\n",
        "roc_obj <- roc(data$stroke, data$pred_prob)\n",
        "\n",
        "# Plot ROC Curve\n",
        "plot(roc_obj, col = \"blue\", main = \"ROC Curve\", print.thres = TRUE)\n",
        "abline(a = 0, b = 1, lty = 2, col = \"red\")\n",
        "\n",
        "# Tentukan nilai cut-off optimal berdasarkan sensitivitas dan spesifisitas\n",
        "coords_optimal <- coords(roc_obj, \"best\", ret = c(\"threshold\", \"sensitivity\", \"specificity\"))\n",
        "optimal_cutoff <- coords_optimal[\"threshold\"]\n",
        "\n",
        "# Tambahkan evaluasi dengan F1-score untuk setiap threshold\n",
        "thresholds <- roc_obj$thresholds\n",
        "f1_scores <- sapply(thresholds, function(threshold) {\n",
        "  predicted <- ifelse(data$pred_prob >= threshold, 1, 0)\n",
        "  tp <- sum(predicted == 1 & data$stroke == 1)\n",
        "  fp <- sum(predicted == 1 & data$stroke == 0)\n",
        "  fn <- sum(predicted == 0 & data$stroke == 1)\n",
        "\n",
        "  precision <- ifelse(tp + fp > 0, tp / (tp + fp), 0)\n",
        "  recall <- ifelse(tp + fn > 0, tp / (tp + fn), 0)\n",
        "  f1 <- ifelse(precision + recall > 0, 2 * (precision * recall) / (precision + recall), 0)\n",
        "  return(f1)\n",
        "})\n",
        "\n",
        "# Cari threshold dengan F1-score terbaik\n",
        "best_f1_idx <- which.max(f1_scores)\n",
        "best_f1_cutoff <- thresholds[best_f1_idx]\n",
        "best_f1 <- f1_scores[best_f1_idx]\n",
        "\n",
        "# Output nilai cut-off optimal dan metriknya\n",
        "cat(\"Optimal Cut-off (based on Sensitivity/Specificity):\", optimal_cutoff, \"\\n\")\n",
        "cat(\"Optimal Cut-off (based on F1-Score):\", best_f1_cutoff, \"\\n\")\n",
        "cat(\"Best F1-Score:\", best_f1, \"\\n\")\n",
        "\n",
        "# Plot F1-Score vs Threshold\n",
        "plot(thresholds, f1_scores, type = \"l\", col = \"blue\", xlab = \"Threshold\", ylab = \"F1-Score\",\n",
        "     main = \"F1-Score vs Threshold\")\n",
        "abline(v = best_f1_cutoff, col = \""
      ],
      "metadata": {
        "colab": {
          "base_uri": "https://localhost:8080/",
          "height": 126
        },
        "id": "rgnSMHVzKIyE",
        "outputId": "0b8fae51-6c32-4c7a-cdca-81b4be03b4be"
      },
      "execution_count": null,
      "outputs": [
        {
          "output_type": "error",
          "ename": "ERROR",
          "evalue": "Error in parse(text = input): <text>:45:34: unexpected INCOMPLETE_STRING\n44:      main = \"F1-Score vs Threshold\")\n45: abline(v = best_f1_cutoff, col = \"\n                                     ^\n",
          "traceback": [
            "Error in parse(text = input): <text>:45:34: unexpected INCOMPLETE_STRING\n44:      main = \"F1-Score vs Threshold\")\n45: abline(v = best_f1_cutoff, col = \"\n                                     ^\nTraceback:\n"
          ]
        }
      ]
    },
    {
      "cell_type": "code",
      "source": [
        "# Tambahkan ke kurva ROC\n",
        "#pred_obj <- prediction(pred, labels)\n",
        "perf <- performance(pred_prob, \"tpr\", \"fpr\")\n",
        "\n",
        "# Plot kurva ROC\n",
        "plot(perf, colorize = TRUE, main = \"ROC Curve with Cutoff\")\n",
        "abline(a = 0, b = 1, lty = 2, col = \"gray\") # Garis diagonal\n",
        "\n",
        "# Tambahkan titik cutoff pada kurva\n",
        "points(FPR, TPR, col = \"red\", pch = 19)\n",
        "text(FPR, TPR, labels = paste(\"Cutoff =\", cutoff), pos = 4)\n"
      ],
      "metadata": {
        "colab": {
          "base_uri": "https://localhost:8080/",
          "height": 73
        },
        "id": "UoEZnrxU3FbQ",
        "outputId": "c00174af-148e-4dd7-9380-86ae36b7ab65"
      },
      "execution_count": null,
      "outputs": [
        {
          "output_type": "error",
          "ename": "ERROR",
          "evalue": "Error in performance(pred_prob, \"tpr\", \"fpr\"): could not find function \"performance\"\n",
          "traceback": [
            "Error in performance(pred_prob, \"tpr\", \"fpr\"): could not find function \"performance\"\nTraceback:\n"
          ]
        }
      ]
    },
    {
      "cell_type": "code",
      "source": [
        "# Library yang diperlukan\n",
        "install.packages('DescTools')\n",
        "\n",
        "library(dplyr)\n",
        "library(reshape2)\n",
        "library(ggplot2)\n",
        "library(DescTools)\n",
        "\n",
        "# Variabel kategorik dan kontinu\n",
        "categorical_vars <- c(\"gender\", \"hypertension\", \"heart_disease\", \"ever_married\", \"work_type\", \"Residence_type\", \"smoking_status\")\n",
        "continuous_vars <- c(\"age\", \"avg_glucose_level\", \"bmi\")\n",
        "\n",
        "# Fungsi untuk menghitung eta-squared (ukuran efek ANOVA)\n",
        "eta_squared <- function(continuous_var, categorical_var) {\n",
        "  model <- aov(continuous_var ~ categorical_var)\n",
        "  eta2 <- summary(model)[[1]]$Sum Sq[1] / sum(summary(model)[[1]]$Sum Sq)\n",
        "  return(eta2)\n",
        "}\n",
        "\n",
        "# Membuat dataframe untuk menyimpan hasil eta-squared\n",
        "eta_squared_matrix <- data.frame(matrix(ncol = length(categorical_vars), nrow = length(continuous_vars)))\n",
        "colnames(eta_squared_matrix) <- categorical_vars\n",
        "rownames(eta_squared_matrix) <- continuous_vars\n",
        "\n",
        "# Menghitung eta-squared untuk setiap kombinasi variabel kontinu dan kategorik\n",
        "for (cont_var in continuous_vars) {\n",
        "  for (cat_var in categorical_vars) {\n",
        "    eta_squared_matrix[cont_var, cat_var] <- eta_squared(data[[cont_var]], data[[cat_var]])\n",
        "  }\n",
        "}\n",
        "\n",
        "# Melihat matriks eta-squared\n",
        "print(eta_squared_matrix)\n",
        "\n",
        "# Visualisasi heatmap dari matriks eta-squared\n",
        "heatmap_data <- melt(eta_squared_matrix)\n",
        "colnames(heatmap_data) <- c(\"Continuous_Variable\", \"Categorical_Variable\", \"Eta_Squared\")\n",
        "\n",
        "ggplot(heatmap_data, aes(x = Continuous_Variable, y = Categorical_Variable, fill = Eta_Squared)) +\n",
        "  geom_tile(color = \"white\") +\n",
        "  scale_fill_gradient(low = \"blue\", high = \"red\", name = \"Eta-Squared\") +\n",
        "  labs(title = \"Matriks Korelasi Eta-Squared: Variabel Kontinu dan Kategorik\",\n",
        "       x = \"Variabel Kontinu\",\n",
        "       y = \"Variabel Kategorik\") +\n",
        "  theme_minimal() +\n",
        "  theme(axis.text.x = element_text(angle = 45, hjust = 1))\n",
        "\n",
        "\n",
        "# Data korelasi dalam format DataFrame\n",
        "data = {\n",
        "    'age': [0.0007701622, 0.07637885, 0.069578169, 0.46115563, 0.46526898, 1.968601e-04, 0.15994551],\n",
        "    'avg_glucose_level': [0.0029945069, 0.03046421, 0.026213983, 0.02412713, 0.01284637, 2.287822e-05, 0.01073159],\n",
        "    'bmi': [0.0006555921, 0.02564820, 0.001510526, 0.11260335, 0.19793147, 8.270679e-08, 0.07137097]\n",
        "}\n",
        "\n",
        "# Membuat DataFrame\n",
        "correlation_df = pd.DataFrame(data, index=[\"gender\", \"hypertension\", \"heart_disease\", \"ever_married\",\n",
        "                                            \"work_type\", \"Residence_type\", \"smoking_status\"])\n",
        "\n",
        "# Membuat heatmap menggunakan seaborn\n",
        "plt.figure(figsize=(10, 6))\n",
        "sns.heatmap(correlation_df, annot=True, cmap='coolwarm', center=0, linewidths=0.5)\n",
        "\n",
        "# Menambahkan judul dan label sumbu\n",
        "plt.title('Heatmap Korelasi antara Variabel Kontinu dan Kategorik')\n",
        "plt.xlabel('Variabel Kontinu')\n",
        "plt.ylabel('Variabel Kategorik')\n",
        "\n",
        "# Menampilkan plot\n",
        "plt.show()\n",
        "hahahhaa"
      ],
      "metadata": {
        "id": "jeIAMzBR7zqj"
      },
      "execution_count": null,
      "outputs": []
    }
  ]
}